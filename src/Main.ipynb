{
 "cells": [
  {
   "cell_type": "code",
   "execution_count": 6,
   "metadata": {},
   "outputs": [
    {
     "name": "stderr",
     "output_type": "stream",
     "text": [
      "Installing packages into 'C:/Users/Sobhan/Documents/R/win-library/3.5'\n",
      "(as 'lib' is unspecified)\n",
      "Warning message:\n",
      "\"dependency 'BiocInstaller' is not available\"also installing the dependencies 'RCurl', 'packrat', 'rex', 'stringdist', 'igraph', 'highlight', 'rematch2', 'rsconnect', 'parsedate', 'rappdirs', 'whoami', 'brew', 'commonmark', 'hunspell', 'praise', 'survC1', 'doBy', 'statmod', 'BiocManager', 'bitops', 'covr', 'foghorn', 'gmailr', 'lintr', 'mockery', 'pingr', 'pkgdown', 'rhub', 'roxygen2', 'rversions', 'spelling', 'testthat', 'frailtypack'\n",
      "\n",
      "Warning message:\n",
      "\"package 'devtools' is in use and will not be installed\""
     ]
    },
    {
     "name": "stdout",
     "output_type": "stream",
     "text": [
      "package 'RCurl' successfully unpacked and MD5 sums checked\n",
      "package 'packrat' successfully unpacked and MD5 sums checked\n",
      "package 'rex' successfully unpacked and MD5 sums checked\n",
      "package 'stringdist' successfully unpacked and MD5 sums checked\n",
      "package 'igraph' successfully unpacked and MD5 sums checked\n",
      "package 'highlight' successfully unpacked and MD5 sums checked\n",
      "package 'rematch2' successfully unpacked and MD5 sums checked\n",
      "package 'rsconnect' successfully unpacked and MD5 sums checked\n",
      "package 'parsedate' successfully unpacked and MD5 sums checked\n",
      "package 'rappdirs' successfully unpacked and MD5 sums checked\n",
      "package 'whoami' successfully unpacked and MD5 sums checked\n",
      "package 'brew' successfully unpacked and MD5 sums checked\n",
      "package 'commonmark' successfully unpacked and MD5 sums checked\n",
      "package 'hunspell' successfully unpacked and MD5 sums checked\n",
      "package 'praise' successfully unpacked and MD5 sums checked\n",
      "package 'survC1' successfully unpacked and MD5 sums checked\n",
      "package 'doBy' successfully unpacked and MD5 sums checked\n",
      "package 'statmod' successfully unpacked and MD5 sums checked\n",
      "package 'BiocManager' successfully unpacked and MD5 sums checked\n",
      "package 'bitops' successfully unpacked and MD5 sums checked\n",
      "package 'covr' successfully unpacked and MD5 sums checked\n",
      "package 'foghorn' successfully unpacked and MD5 sums checked\n",
      "package 'gmailr' successfully unpacked and MD5 sums checked\n",
      "package 'lintr' successfully unpacked and MD5 sums checked\n",
      "package 'mockery' successfully unpacked and MD5 sums checked\n",
      "package 'pingr' successfully unpacked and MD5 sums checked\n",
      "package 'pkgdown' successfully unpacked and MD5 sums checked\n",
      "package 'rhub' successfully unpacked and MD5 sums checked\n",
      "package 'roxygen2' successfully unpacked and MD5 sums checked\n",
      "package 'rversions' successfully unpacked and MD5 sums checked\n",
      "package 'spelling' successfully unpacked and MD5 sums checked\n",
      "package 'testthat' successfully unpacked and MD5 sums checked\n",
      "package 'frailtypack' successfully unpacked and MD5 sums checked\n",
      "package 'dsr' successfully unpacked and MD5 sums checked\n",
      "\n",
      "The downloaded binary packages are in\n",
      "\tC:\\Users\\Sobhan\\AppData\\Local\\Temp\\RtmpGmwHQd\\downloaded_packages\n"
     ]
    },
    {
     "ename": "ERROR",
     "evalue": "Error in library(DSR): there is no package called 'DSR'\n",
     "output_type": "error",
     "traceback": [
      "Error in library(DSR): there is no package called 'DSR'\nTraceback:\n",
      "1. library(DSR)",
      "2. stop(txt, domain = NA)"
     ]
    }
   ],
   "source": [
    "install.packages(c(\"devtools\", \"dsr\"), dependencies=TRUE)\n",
    "library(\"devtools\")\n",
    "library(DSR)\n",
    "library(stringi)"
   ]
  },
  {
   "cell_type": "code",
   "execution_count": null,
   "metadata": {},
   "outputs": [],
   "source": [
    "MyData <- read.csv(file=\"../divar/divar_posts_dataset.csv\")"
   ]
  },
  {
   "cell_type": "code",
   "execution_count": null,
   "metadata": {},
   "outputs": [],
   "source": [
    "head(MyData, 10)"
   ]
  },
  {
   "cell_type": "code",
   "execution_count": null,
   "metadata": {},
   "outputs": [],
   "source": []
  }
 ],
 "metadata": {
  "kernelspec": {
   "display_name": "R",
   "language": "R",
   "name": "ir"
  },
  "language_info": {
   "codemirror_mode": "r",
   "file_extension": ".r",
   "mimetype": "text/x-r-source",
   "name": "R",
   "pygments_lexer": "r",
   "version": "3.5.2"
  }
 },
 "nbformat": 4,
 "nbformat_minor": 2
}
