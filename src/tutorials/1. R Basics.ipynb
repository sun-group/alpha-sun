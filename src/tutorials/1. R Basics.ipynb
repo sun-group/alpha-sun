{
  "cells": [
    {
      "metadata": {},
      "cell_type": "markdown",
      "source": "<body  style=\"background-color:rgb(11, 42, 73);\">\n    <div style=\"direction:rtl;line-height:300%;background-color:rgb(11, 42, 73);\">\n            <img src=\"./figs/Logo Final.jpg\" style=\"position:reletive;margin-top:15pt;float:right;background-color:rgb(11, 42, 73);\" width=\"200\" height=\"200\"/>\n    <img src=\"./figs/Sharif Logo.png\" style=\"position:reletive;margin-top:25pt;margin-left:20pt;float:left;background-color:rgb(11, 42, 73);\" width=\"170\" height=\"170\"/>\n\t\t<div align=center>\n\t\t\t<font face=\"IranNastaliq\" size=30 color=white>\n\t\t\t\t<p></p>\n\t\t\t\t<p></p>\n                <br>\nبه نام خدا\n\t\t\t\t<p></p>\n\t\t\t</font>\n\t\t</div>\n        \t\t\t<div align=center style=\"color:white\">\n                        <font size=50 face=\"XB Niloofar\">\n                            <br>\n                            مقدمات R\n                        </font>\n            </div>\n    </div>\n</body>"
    },
    {
      "metadata": {},
      "cell_type": "markdown",
      "source": "<div style=\"direction:rtl;line-height:300%;\">\n\t<font face=\"XB Niloofar\" size=5>\n\t\t<hr />\n\t\t<style type=\"text/css\" scoped>\n        p{\n        border: 1px solid #a2a9b1;background-color: #f8f9fa;display: inline-block;\n        };\n        </style>\n\t\t<div>\n\t\t\t<h3 style=\"color:#0051A2\">فهرست مطالب</h3>\n\t\t\t<ul style=\"margin-right: 0;\">\n                <li>\n\t\t\t\t\t<a href=\"#sec_installR\">\n                        نصب کردن R\n                    </a>\n\t\t\t\t</li>\n                <li>\n\t\t\t\t\t<a href=\"#sec_R_packages\">\n                      پکیج‌های R\n                    </a>\n\t\t\t\t</li>\n                <li>\n\t\t\t\t\t<a href=\"#sec_R_Intro\">\n                        مقدمات R\n                    </a>\n\t\t\t\t</li>\n                <li>\n\t\t\t\t\t<a href=\"#sec_statFunc\">\n                        توابع آماری\n                    </a>\n\t\t\t\t</li>\n                <li>\n\t\t\t\t\t<a href=\"#sec_R_DSs\">\nداده‌ساختار‌ها در R\n                    </a>\n\t\t\t\t</li>\n                <li>\n\t\t\t\t\t<a href=\"#sec_additional\">\n                        نکات تکمیلی\n                    </a>\n\t\t\t\t</li>\n\t\t\t</ul>\n            <hr>\n\t\t</div>\n\t</font>\n</div>"
    },
    {
      "metadata": {},
      "cell_type": "markdown",
      "source": "<p></p>\n<br />\n<div id=\"sec_installR\" style=\"direction:rtl;line-height:300%;\">\n\t<font face=\"XB Niloofar\" size=5>\n\t\t<font color=#006FDE size=6>\nنصب کردن R\n        </font>\n\t\t<p></p>\n\t\t<hr>\n        ابتدا R را از <a href=\"https://cran.r-project.org/\">اینجا</a> دانلود کنید.\n        <br><br>\n        <font color=#000000 size=5>\n            <b>\nنصب کردن R بر روی Jupyter Notebook:\n            </b>\n        </font>\n        <br>\n        بعد از نصب‌کردن R ، آن را اجرا کنید. \n        <br>\n        در کنسولِ آن ، دستور زیر را اجرا کنید تا پکیج های مورد نیاز دانلود و نصب شود.\n        <br>\n\t</font>\n</div>"
    },
    {
      "metadata": {
        "trusted": true
      },
      "cell_type": "code",
      "source": "install.packages(c('repr', 'IRdisplay', 'evaluate', 'crayon', 'pbdZMQ', 'devtools', 'uuid', 'digest'))",
      "execution_count": null,
      "outputs": []
    },
    {
      "metadata": {},
      "cell_type": "markdown",
      "source": "<div style=\"direction:rtl;line-height:300%;\">\n\t<font face=\"XB Niloofar\" size=5>\n    \tسپس با استفاده از پکیج devtools ، پکیج IRkernel را نصب می‌کنیم :\n        <br>\n        دستور زیر را اجرا کنید.\n    </font>\n</div>"
    },
    {
      "metadata": {
        "trusted": true
      },
      "cell_type": "code",
      "source": "devtools::install_github('IRkernel/IRkernel')",
      "execution_count": null,
      "outputs": []
    },
    {
      "metadata": {},
      "cell_type": "markdown",
      "source": "<div style=\"direction:rtl;line-height:300%;\">\n\t<font face=\"XB Niloofar\" size=5>\n\tو حال باید R kernel را برای Jupyter نمایان کنیم. \n    </font>\n</div>"
    },
    {
      "metadata": {
        "trusted": true
      },
      "cell_type": "code",
      "source": "IRkernel::installspec()",
      "execution_count": null,
      "outputs": []
    },
    {
      "metadata": {},
      "cell_type": "markdown",
      "source": "<br>\n<div id=\"sec_whatisR\" style=\"direction:rtl;line-height:300%;\">\n\t<font face=\"XB Niloofar\" size=5>\n        <font color=#000000 size=5>\n            <b>\n\tنصب R Studio :\n            </b>\n        </font>\n        <br>\n\tR studio  یک محیط گرافیکی برای کار باR  می‌باشد. برای نصب آن را از <a href=\"http://www.rstudio.com/products/rstudio/download/\">اینجا</a> دانلود کنید.\n        <br>\n\t</font>\n</div>"
    },
    {
      "metadata": {},
      "cell_type": "markdown",
      "source": "<br>\n<div id=\"sec_R_packages\" style=\"direction:rtl;line-height:300%;\">\n\t<font face=\"XB Niloofar\" size=5>\n        \t<font face=\"XB Niloofar\" size=5>\n\t\t<font color=#006FDE size=6>\n        پکیج‌های R\n    </font>\n                <hr>\n        <b>\n        مجموعه دستورات مفید در ارتباط با پکیج‌ها :\n        </b>\n        <br>\n    </font>\n</div>"
    },
    {
      "metadata": {
        "trusted": true
      },
      "cell_type": "code",
      "source": "## Installing a package\ninstall.packages(\"package-name\")\n\n## Removing a package\nremove.packages(\"\")\n\n## Installed packages that need to be updated\nold.packages()\n\n## Updating old packages\nupdate.packages()\n\n## Using a function from a package without loading the package \n### PackageName::function()\nggplot2::geom_point",
      "execution_count": null,
      "outputs": []
    },
    {
      "metadata": {},
      "cell_type": "markdown",
      "source": "<br>\n<div id=\"sec_R_Intro\" style=\"direction:rtl;line-height:300%;\">\n\t<font face=\"XB Niloofar\" size=5>\n\t\t<font color=#006FDE size=6>\n        مقدمات R\n            <hr>\n        </font>\n\t\t<p></p>\n\t</font>\n</div>"
    },
    {
      "metadata": {
        "trusted": true
      },
      "cell_type": "code",
      "source": "print(\"Hello World!\")",
      "execution_count": null,
      "outputs": []
    },
    {
      "metadata": {},
      "cell_type": "markdown",
      "source": "<br>\n<div id=\"sec_whatisR\" style=\"direction:rtl;line-height:300%;\">\n\t<font face=\"XB Niloofar\" size=5>\n        <font color=#000000 size=5>\n            <b>\n                چاپ کردن :\n            </b>\n        </font>\n        <br>\n        فرض کنید که می‌خواهیم مقدار یک عبارت و یا متغیر را نمایش دهیم. برای این کار کافیست تا آن عبارت و یا متغیر را اجرا کرده و نتیجه چاپ می‌شود.\n        <br>\n\t</font>\n</div>"
    },
    {
      "metadata": {
        "trusted": true
      },
      "cell_type": "code",
      "source": "1 + 1\npi\nsqrt(8)",
      "execution_count": null,
      "outputs": []
    },
    {
      "metadata": {},
      "cell_type": "markdown",
      "source": "<div id=\"sec_whatisR\" style=\"direction:rtl;line-height:300%;\">\n\t<font face=\"XB Niloofar\" size=5>\n        همینطور از تابع <code>()print</code> نیز برای چاپ کردن می‌توانیم استفاده کنیم.\n        <br>\n\t</font>\n</div>"
    },
    {
      "metadata": {
        "trusted": false
      },
      "cell_type": "code",
      "source": "print(pi)",
      "execution_count": null,
      "outputs": []
    },
    {
      "metadata": {},
      "cell_type": "markdown",
      "source": "<div id=\"sec_whatisR\" style=\"direction:rtl;line-height:300%;\">\n\t<font face=\"XB Niloofar\" size=5>\n        نکته‌ای که تابع <code>()print</code> را متمایز می کند این است که هر شی (Object) را که در R داریم در فرمت درست چاپ می‌کند.\n        <br>\n        به عنوان مثال در زیر یک ماتریس را چاپ می‌کنیم. (درباره‌ی داده‌ساختار‌ها در جلوتر صحبت خواهیم کرد.)\n\t</font>\n</div>"
    },
    {
      "metadata": {
        "trusted": false
      },
      "cell_type": "code",
      "source": "print(matrix(c(1,2,3,4),2,2))",
      "execution_count": null,
      "outputs": []
    },
    {
      "metadata": {},
      "cell_type": "markdown",
      "source": "<div id=\"sec_whatisR\" style=\"direction:rtl;line-height:300%;\">\n\t<font face=\"XB Niloofar\" size=5>\n        توجه : تابع <code>()print</code> در هربار تنها یک شی را چاپ می‌کند.\n\t</font>\n</div>"
    },
    {
      "metadata": {
        "trusted": false
      },
      "cell_type": "code",
      "source": "print(\"Pi number is equal to \" , pi)",
      "execution_count": null,
      "outputs": []
    },
    {
      "metadata": {},
      "cell_type": "markdown",
      "source": "<div id=\"sec_whatisR\" style=\"direction:rtl;line-height:300%;\">\n\t<font face=\"XB Niloofar\" size=5>\n        برای این‌کار از تابع <code>()cat</code> استفاده می‌کنیم. \n    </font>\n</div>"
    },
    {
      "metadata": {
        "trusted": false
      },
      "cell_type": "code",
      "source": "cat(\"Pi number is equal to\", pi , \"\\n\")",
      "execution_count": null,
      "outputs": []
    },
    {
      "metadata": {},
      "cell_type": "markdown",
      "source": "<div id=\"sec_whatisR\" style=\"direction:rtl;line-height:300%;\">\n\t<font face=\"XB Niloofar\" size=5>\n        تابع <code>()cat</code> توانایی چاپ بردار (Vector) های ساده را نیز دارد.\n    </font>\n</div>"
    },
    {
      "metadata": {
        "trusted": false
      },
      "cell_type": "code",
      "source": "cat(\"12 months of the year are\" , month.name , \"\\n\")",
      "execution_count": null,
      "outputs": []
    },
    {
      "metadata": {},
      "cell_type": "markdown",
      "source": "<div id=\"sec_whatisR\" style=\"direction:rtl;line-height:300%;\">\n\t<font face=\"XB Niloofar\" size=5>\n(month.name و pi از جمله ثابت هایی هستند که خود R فراهم می‌کند.)\n    </font>\n</div>"
    },
    {
      "metadata": {},
      "cell_type": "markdown",
      "source": "<br>\n<div id=\"sec_whatisR\" style=\"direction:rtl;line-height:300%;\">\n\t<font face=\"XB Niloofar\" size=5>\n        <font color=#000000 size=5>\n            <b>\n            تعریف متغیر :\n            </b>\n        </font>\n        <br>\n        در R برای تعریف یک متغیر نیاز به آوردن نوع آن نمی‌باشد. کافیست از عملگر <code>-&gt;</code> استفاده کنیم.\n\t</font>\n</div>"
    },
    {
      "metadata": {
        "trusted": false
      },
      "cell_type": "code",
      "source": "s <- \"this is a string\"\nx <- 4\ns\nprint(x)",
      "execution_count": null,
      "outputs": []
    },
    {
      "metadata": {},
      "cell_type": "markdown",
      "source": "<div id=\"sec_whatisR\" style=\"direction:rtl;line-height:300%;\">\n\t<font face=\"XB Niloofar\" size=5>\n        نکته 1 : در اسم‌گذاری شی‌ها (Objects) می‌توانید از نقطه \".\" نیز در نام آن‌ها استفاده‌کنید همانطور که در بالاتر دیدیم month.name اسم یک بردار در R می‌باشد.\n        <br>\n        نکته 2 : از = نیز می‌توان برای مقدار‌دهی استفاده کرد ، اما در R ، عملگر =  کاربرد دیگری نیز دارد که آن مشخص کردن یک پارامتر در یک تابع می‌باشد. برای همین بهتر است از <code>-&gt;</code> استفاده کنیم.\n        <br>\n        <a href=\"https://renkun.me/2014/01/28/difference-between-assignment-operators-in-r/\">اینجا</a> را مطالعه کنید.\n    <br><br>\n        با تعریف یک متغیر به این شکل ، متغیر در workspace نگه داشته می‌شود.\n        <br>\n        برای مشاهده متغیر‌ها و توابعی که در workspace ما قرار دارد از تابع <code>()ls</code> استفاده می‌کنیم.\n        <br>\n        برای دریافت جزئیات از <code>()ls.str</code> استفاده کنید.\n    </font>\n</div>"
    },
    {
      "metadata": {
        "trusted": false
      },
      "cell_type": "code",
      "source": "ls()\nls.str()\na <- 4\nls()\nls.str()",
      "execution_count": null,
      "outputs": []
    },
    {
      "metadata": {},
      "cell_type": "markdown",
      "source": "<div id=\"sec_whatisR\" style=\"direction:rtl;line-height:300%;\">\n\t<font face=\"XB Niloofar\" size=5>\n        با استفاده از دستور <code>()rm</code> می‌توانید متغیر‌ها را از workspace خود پاک کنید.\n    </font>\n</div>"
    },
    {
      "metadata": {
        "trusted": false
      },
      "cell_type": "code",
      "source": "print(\"Removing x\")\nrm(\"x\")\nls.str()\n\n##Clearing the workspace\nrm(list = ls())\n\nprint(\"The workspace now :\")\nls()\n",
      "execution_count": null,
      "outputs": []
    },
    {
      "metadata": {},
      "cell_type": "markdown",
      "source": "<br>\n<div id=\"sec_whatisR\" style=\"direction:rtl;line-height:300%;\">\n\t<font face=\"XB Niloofar\" size=5>\n        <font color=#000000 size=5>\n            <b>\nکمک گرفتن در R :\n            </b>\n        </font>\n        <br>\n        یکی از بهترین راه‌های یادگیری و کمک گرفتن ، مطالعه مستندات پکیج‌ها و توابع می‌باشد که در خود R موجود می‌باشند.\n        <br><br>\n        از روش‌های زیر می‌توانید این مستندات را ببینید.\n        </font>\n</div>"
    },
    {
      "metadata": {
        "trusted": false
      },
      "cell_type": "code",
      "source": "## Documentation of installed functions\n?mean\n\n## Documentation of functions\n??highchart\n\n## Documentation of packages or functions\nhelp(\"\")\n\n#### Getting help on packages\nvignette(\"\")",
      "execution_count": null,
      "outputs": []
    },
    {
      "metadata": {},
      "cell_type": "markdown",
      "source": "<br>\n<div id=\"sec_whatisR\" style=\"direction:rtl;line-height:300%;\">\n\t<font face=\"XB Niloofar\" size=5>\n        <font color=#000000 size=5>\n            <b>\n                ساخت یک بردار :\n            </b>\n        </font>\n        <br>\n            بردار‌ها از اصلی ترین قسمت‌های R می‌باشند. بردار‌ها می‌توانند شامل اعداد ، رشته‌ها یا مقادیر منطقی باشند اما نمی‌توانند به صورت ترکیبی از چند نوع باشند.\n        <br>\n        با عملگر <code>()c</code> می‌توانید یک بردار بسازید.\n        </font>\n</div>"
    },
    {
      "metadata": {
        "trusted": false
      },
      "cell_type": "code",
      "source": "c(1,3,3*pi,4+5)\nc(T,F,T)",
      "execution_count": null,
      "outputs": []
    },
    {
      "metadata": {},
      "cell_type": "markdown",
      "source": "<div id=\"sec_whatisR\" style=\"direction:rtl;line-height:300%;\">\n\t<font face=\"XB Niloofar\" size=5>\n        اگر مقادیر داده شده به <code>()c</code> خود ، بردار باشند آن‌ها را باز کرده و با دیگر مقادیر ترکیب می‌کند.\n    </font>\n</div>"
    },
    {
      "metadata": {
        "trusted": false
      },
      "cell_type": "code",
      "source": "v1 <- c(1,4,5)\nv2 <- c(8,5,6)\nc(2,v1,v2,0)",
      "execution_count": null,
      "outputs": []
    },
    {
      "metadata": {},
      "cell_type": "markdown",
      "source": "<br>\n<div id=\"sec_whatisR\" style=\"direction:rtl;line-height:300%;\">\n\t<font face=\"XB Niloofar\" size=5>\n        <font color=#000000 size=5>\n            <b>\n                مقایسه دو بردار :\n            </b>\n            <br>\n        </font>\n            با مقایسه دو بردار ، R عضو به عضو دو بردار را مقایسه کرده و برداری از مقادیر منطقی True – False برمی‌گرداند.\n        </font>\n</div>"
    },
    {
      "metadata": {
        "trusted": false
      },
      "cell_type": "code",
      "source": "v <- c(2,4,6)\nu <- c(3,4,5)\n\nu != v   # 2 != 3  4 == 4  6 != 5\n\nv > u    # 2 < 3   4 == 4   6 > 5",
      "execution_count": null,
      "outputs": []
    },
    {
      "metadata": {},
      "cell_type": "markdown",
      "source": "<div id=\"sec_whatisR\" style=\"direction:rtl;line-height:300%;\">\n\t<font face=\"XB Niloofar\" size=5>\n        همین طور :\n    </font>\n</div>"
    },
    {
      "metadata": {
        "trusted": false
      },
      "cell_type": "code",
      "source": "u > 4\nv*2 > 7",
      "execution_count": null,
      "outputs": []
    },
    {
      "metadata": {},
      "cell_type": "markdown",
      "source": "<br>\n<div id=\"sec_whatisR\" style=\"direction:rtl;line-height:300%;\">\n\t<font face=\"XB Niloofar\" size=5>\n        <font color=#000000 size=5>\n            <b>\nانتخاب یک یا چند عضو بردار :\n            </b>\n            <br>\n        </font>\n        بر حسب شرایط به یک یا چند روش زیر عمل می‌کنیم.\n        <br>\n        <br>\n        - استفاده از کروشه و انتخاب اعضا بر حسب اندیس آن‌ها. (توجه کنید که R اندیس‌ها از 1 شروع می‌شود.)\n        </font>\n</div>"
    },
    {
      "metadata": {
        "trusted": false
      },
      "cell_type": "code",
      "source": "v <- c(0,10,20,30,7,11,23)\nv[1]",
      "execution_count": null,
      "outputs": []
    },
    {
      "metadata": {},
      "cell_type": "markdown",
      "source": "<div id=\"sec_whatisR\" style=\"direction:rtl;line-height:300%;\">\n\t<font face=\"XB Niloofar\" size=5>\n        - استفاده از اندیس های منفی به عنوان اعضای مستثنی شده.\n    </font>\n</div>"
    },
    {
      "metadata": {
        "trusted": false
      },
      "cell_type": "code",
      "source": "v[-1]",
      "execution_count": null,
      "outputs": []
    },
    {
      "metadata": {},
      "cell_type": "markdown",
      "source": "<div id=\"sec_whatisR\" style=\"direction:rtl;line-height:300%;\">\n\t<font face=\"XB Niloofar\" size=5>\n        - استفاده از برداری از اندیس‌ها برای انتخاب چند عضو\n    </font>\n</div>"
    },
    {
      "metadata": {
        "trusted": false
      },
      "cell_type": "code",
      "source": "v[2:4]\nv[c(2,3,4)]\nv[-c(2,3,4)]",
      "execution_count": null,
      "outputs": []
    },
    {
      "metadata": {},
      "cell_type": "markdown",
      "source": "<div id=\"sec_whatisR\" style=\"direction:rtl;line-height:300%;\">\n\t<font face=\"XB Niloofar\" size=5>\n        - استفاده از یک بردار منطقی (در بالاتر دیدیم که با اعمال عملگر‌های منطقی بر یک بردار ، خروجی یک بردار شامل مقادیر منطقی می‌باشد.)\n    </font>\n</div>"
    },
    {
      "metadata": {
        "trusted": false
      },
      "cell_type": "code",
      "source": "v[v > 8]\nv[v > median(v)]",
      "execution_count": null,
      "outputs": []
    },
    {
      "metadata": {},
      "cell_type": "markdown",
      "source": "<br>\n<div id=\"sec_whatisR\" style=\"direction:rtl;line-height:300%;\">\n\t<font face=\"XB Niloofar\" size=5>\n        <font color=#000000 size=5>\n            <b>\nتولید دنباله‌ای از اعداد :\n            </b>\n            <br>\n        </font>\n          - ساده‌ترین راه تولید دنباله با افزایش 1 :\n        </font>\n</div>"
    },
    {
      "metadata": {
        "trusted": false
      },
      "cell_type": "code",
      "source": "4:9\n-3:7",
      "execution_count": null,
      "outputs": []
    },
    {
      "metadata": {},
      "cell_type": "markdown",
      "source": "<div id=\"sec_whatisR\" style=\"direction:rtl;line-height:300%;\">\n\t<font face=\"XB Niloofar\" size=5>\n        فکر می‌کنید خروجی 6:4 چیست ؟\n    </font>\n</div>"
    },
    {
      "metadata": {
        "trusted": false
      },
      "cell_type": "code",
      "source": "6:4",
      "execution_count": null,
      "outputs": []
    },
    {
      "metadata": {},
      "cell_type": "markdown",
      "source": "<div id=\"sec_whatisR\" style=\"direction:rtl;line-height:300%;\">\n\t<font face=\"XB Niloofar\" size=5>\n        <br>\n        - می‌توانید برای ایجاد دنباله‌هایی با هر مقدار افزایش و یا با طول دنباله ایجاد شده  مشخص از تابع <code>()seq</code> استفاده کنید.\n    </font>\n</div>"
    },
    {
      "metadata": {
        "trusted": false
      },
      "cell_type": "code",
      "source": "seq(from = 3, to = 8, by = 2)\nseq(from = 5, to = 20, length.out = 4)\nseq(1,2,length.out = 5)",
      "execution_count": null,
      "outputs": []
    },
    {
      "metadata": {},
      "cell_type": "markdown",
      "source": "<div id=\"sec_whatisR\" style=\"direction:rtl;line-height:300%;\">\n\t<font face=\"XB Niloofar\" size=5>\n        <br>\n        -  برای ایجاد مقادیر تکراری از تابع <code>()rep</code> استفاده می‌کنیم.\n    </font>\n</div>"
    },
    {
      "metadata": {
        "trusted": false
      },
      "cell_type": "code",
      "source": "rep(2,times = 4)",
      "execution_count": null,
      "outputs": []
    },
    {
      "metadata": {
        "trusted": false
      },
      "cell_type": "code",
      "source": "c(1:5,seq(6,10),(1:5)+10)",
      "execution_count": null,
      "outputs": []
    },
    {
      "metadata": {},
      "cell_type": "markdown",
      "source": "<br>\n<div id=\"sec_statFunc\" style=\"direction:rtl;line-height:300%;\">\n\t<font face=\"XB Niloofar\" size=5>\n\t\t<font color=#006FDE size=6>\n        توابع آماری\n        </font>\n\t\t<p></p>\n\t\t<hr>\n        به طور پیش‌فرض در پکیج stats در R بسیاری از توابع کارآمد آماری موجود است که در زیر به بخشی از آن‌ها می‌پردازیم.\n        <br><br>\n        توابع مقدماتی آماری :\n</font>\n</div>"
    },
    {
      "metadata": {
        "trusted": false
      },
      "cell_type": "code",
      "source": "u <- c(10:1)\nu\n\nprint(\"Mean :\")\nmean(u)\n\nprint(\"Standard Deviation :\")\nsd(u)\n\nprint(\"Variance :\")\nvar(u)\n\nprint(\"Min :\")\nmin(u)\n\nprint(\"Max :\")\nmax(u)\n\nprint(\"Median :\")\nmedian(u)\n",
      "execution_count": null,
      "outputs": []
    },
    {
      "metadata": {},
      "cell_type": "markdown",
      "source": "<div id=\"sec_whatisR\" style=\"direction:rtl;line-height:300%;\">\n\t<font face=\"XB Niloofar\" size=5>\n        <br>\n        و توابع توزیع‌های احتمالاتی :\n    </font>\n</div>"
    },
    {
      "metadata": {
        "trusted": false
      },
      "cell_type": "code",
      "source": "## For a random sample of normal distribution\nsample <- rnorm(n = 5, mean = 0, sd = 1)\nsample\n##For other distributions:\n## Use    runif    for uniform sample\n## Use    rbinom   for binomial sample\n## ...",
      "execution_count": null,
      "outputs": []
    },
    {
      "metadata": {},
      "cell_type": "markdown",
      "source": "<div id=\"sec_whatisR\" style=\"direction:rtl;line-height:300%;\">\n\t<font face=\"XB niloofar\" size=5>\n        <br>\n        علاوه بر تابع بالا ، <code>()dnorm</code> چگالی توزیع را و <code>()pnorm</code> تابع توزیع را بر می‌گردانند.\n    </font>\n</div>"
    },
    {
      "metadata": {},
      "cell_type": "markdown",
      "source": "<br>\n<div id=\"sec_R_DSs\" style=\"direction:rtl;line-height:300%;\">\n\t<font face=\"XB niloofar\" size=5>\n\t\t<font color=#006FDE size=6>\n            داده‌ساختار‌ها در R\n        </font>\n\t\t<p></p>\n\t\t<hr>\n        <br>\n        <b>\n            بردار‌ها :\n        </b>\n        <br>\n        در مورد بردار‌ها بالاتر صحبت کردیم و در این بخش تنها به چند نکته تکمیلی می‌پردازیم :\n        <br>\n        - اضافه‌کردن داده به بردار :\n        <br>\n</font>\n</div>"
    },
    {
      "metadata": {
        "trusted": false
      },
      "cell_type": "code",
      "source": "vec <- 1:6\nvec\n\nnewVec <- c(vec,10,vec)\nnewVec\n\n## Inserting Data into a Vector\nappend(vec,8:10, after = 2)",
      "execution_count": null,
      "outputs": []
    },
    {
      "metadata": {},
      "cell_type": "markdown",
      "source": "<div id=\"sec_whatisR\" style=\"direction:rtl;line-height:300%;\">\n\t<font face=\"XB Niloofar\" size=5>\n        <br>\n        <b>\n            قانون بازیافت در R :\n        </b>\n        <br>\n        پیش‌تر گفتیم که در هنگام انجام اعمال محاسباتی در R بر روی بردار‌ها ، R عمل مورد نظر را بر روی تک‌تک اعضا‌ی دو بردار انجام می‌دهد.\n        <br>\n        حال اگر طول دو بردار برابر نباشد چه می‌شود ؟\n        <br><br>\n        در این مواقع R ، قانون بازیافت را بر روی بردار کوچک‌تر اعمال می‌کند. \n        <br>\n        یعنی دوباره از عضو اول بردار کوچک‌تر شروع می‌کند و به عنوان عضو بعدی از آن استفاده می‌کند.       \n</font>\n</div>"
    },
    {
      "metadata": {
        "trusted": true
      },
      "cell_type": "code",
      "source": "1:6 + 1:3\n\n## 1 2 3 4 5 6\n##    +\n## 1 2 3 1 2 3\n\nc(1,2,3,10,20,30) + 1:5\n\n## 1 2 3 10 20 30\n##     +\n## 1 2 3  4  5  1",
      "execution_count": null,
      "outputs": []
    },
    {
      "metadata": {},
      "cell_type": "markdown",
      "source": "<div id=\"sec_whatisR\" style=\"direction:rtl;line-height:300%;\">\n\t<font face=\"XB Niloofar\" size=5>\n        <br>\n        <b>\n            ماتریس‌ها\n        </b>\n        <br>\n        یکی از داده‌ساختار‌ های موجود در R ماتریس‌ها می‌باشند. \n</font>\n</div>"
    },
    {
      "metadata": {
        "trusted": false
      },
      "cell_type": "code",
      "source": "## Create a matrix using matrix() function\n\n# 2*4 matrix\nmatrix(1:8, nrow = 2)\n\n#2*4 matrix, each row is filled first\nmatrix(1:8,nrow = 2, byrow = T)\n\n# 4*2 matrix\nmatrix(1:8, ncol = 2)\n",
      "execution_count": null,
      "outputs": []
    },
    {
      "metadata": {
        "trusted": false
      },
      "cell_type": "code",
      "source": "## Name columns and rows of a matrix\nm <- matrix(1:4,nrow = 2)\ncolnames(m) <- c(\"col one\",\"col two\")\nrownames(m) <- c(\"row one\",\"row two\")\nm",
      "execution_count": null,
      "outputs": []
    },
    {
      "metadata": {
        "trusted": false
      },
      "cell_type": "code",
      "source": "## Calling elements\nprint(m[2,])\nprint(m[,2])\nprint(m[2,2])\n",
      "execution_count": null,
      "outputs": []
    },
    {
      "metadata": {
        "trusted": false
      },
      "cell_type": "code",
      "source": "# Arithmatic on matrices\nprint(\"Scalar Multiplication:\")\nm * 2\nprint(\"Element Wise Multiplication:\")\nm * m\nprint(\"Matrix Multiplication:\")\nm %*% m",
      "execution_count": null,
      "outputs": []
    },
    {
      "metadata": {},
      "cell_type": "markdown",
      "source": "<div id=\"sec_whatisR\" style=\"direction:rtl;line-height:300%;\">\n\t<font face=\"XB Niloofar\" size=5>\n        <br>\n        <b>\nDataframes:\n        </b>\n        <br>\n        Dataframe مهم‌ترین و پراستفاده‌ترین داده‌ساختاری است که در R می‌باشد.\n        <br>\n        یک جدول که در آن هر ستون شامل مقادیر یک متغیر و هر سطر شامل مجموعه‌ای از مقادیر هر ستون می‌باشد.\n        \n</font>\n</div>"
    },
    {
      "metadata": {
        "trusted": false
      },
      "cell_type": "code",
      "source": "## Create a dataframe with data.frame()\ndf <- data.frame(\n    ID = 1:5,\n    Name = c(\"Ali\",\"Reza\",\"Kiarash\",\"Nima\",\"Hossein\"),\n    Grade = c(20,16,17.5,14,19))\n\ndf",
      "execution_count": null,
      "outputs": []
    },
    {
      "metadata": {
        "trusted": false
      },
      "cell_type": "code",
      "source": "## Summary of a dataframe\nsummary(df)",
      "execution_count": null,
      "outputs": []
    },
    {
      "metadata": {
        "trusted": false
      },
      "cell_type": "code",
      "source": "##Selecting elements\ndf$Grade",
      "execution_count": null,
      "outputs": []
    },
    {
      "metadata": {
        "trusted": false
      },
      "cell_type": "code",
      "source": "df[1,]",
      "execution_count": null,
      "outputs": []
    },
    {
      "metadata": {
        "trusted": false
      },
      "cell_type": "code",
      "source": "df[,1]",
      "execution_count": null,
      "outputs": []
    },
    {
      "metadata": {
        "trusted": false
      },
      "cell_type": "code",
      "source": "df[df$Grade > 18,]",
      "execution_count": null,
      "outputs": []
    },
    {
      "metadata": {
        "trusted": false
      },
      "cell_type": "code",
      "source": "df[c(\"ID\",\"Grade\")]",
      "execution_count": null,
      "outputs": []
    },
    {
      "metadata": {},
      "cell_type": "markdown",
      "source": "<div id=\"sec_whatisR\" style=\"direction:rtl;line-height:300%;\">\n\t<font face=\"XB Niloofar\" size=5>\n        <br>\n       همینطور هنگامی که مجموعه‌داده‌ای را از یک فایل می‌خوانید به صورت dataframe دخیره می‌شود.\n</font>\n</div>"
    },
    {
      "metadata": {
        "trusted": false
      },
      "cell_type": "code",
      "source": "## Depending on the format of dataset\n## for example inorder to read a .csv file, use read.csv()\nread.csv(\"Address of the file\")",
      "execution_count": null,
      "outputs": []
    },
    {
      "metadata": {},
      "cell_type": "markdown",
      "source": "<br>\n<div id=\"sec_additional\" style=\"direction:rtl;line-height:300%;\">\n\t<font face=\"XB Niloofar\" size=5>\n\t\t<font color=#006FDE size=6>\nنکات تکمیلی\n        </font>\n\t\t<p></p>\n\t\t<hr>\n        یکی از بهترین راه‌های دسترسی سریع و مرور نکات پایه‌ای R ، استفاده از cheat sheet های R می‌باشد.\n        <br>\n        در کنار این نوت‌بوک cheat sheet نکات پایه‌ای قرار داده‌شده که می‌توانید از آن استفاده کنید.\n        <br>\n        همینطور یک cheat sheet دیگر برای کار با R Studio نیز قرار داده شده است.\n</font>\n</div>"
    }
  ],
  "metadata": {
    "kernelspec": {
      "name": "r",
      "display_name": "R",
      "language": "R"
    },
    "language_info": {
      "codemirror_mode": "r",
      "file_extension": ".r",
      "mimetype": "text/x-r-source",
      "name": "R",
      "pygments_lexer": "r",
      "version": "3.5.1"
    },
    "latex_envs": {
      "LaTeX_envs_menu_present": true,
      "autoclose": false,
      "autocomplete": true,
      "bibliofile": "biblio.bib",
      "cite_by": "apalike",
      "current_citInitial": 1,
      "eqLabelWithNumbers": true,
      "eqNumInitial": 1,
      "hotkeys": {
        "equation": "Ctrl-E",
        "itemize": "Ctrl-I"
      },
      "labels_anchors": false,
      "latex_user_defs": false,
      "report_style_numbering": false,
      "user_envs_cfg": false
    },
    "toc": {
      "base_numbering": 1,
      "nav_menu": {},
      "number_sections": true,
      "sideBar": true,
      "skip_h1_title": false,
      "title_cell": "Table of Contents",
      "title_sidebar": "Contents",
      "toc_cell": false,
      "toc_position": {},
      "toc_section_display": true,
      "toc_window_display": false
    },
    "varInspector": {
      "cols": {
        "lenName": 16,
        "lenType": 16,
        "lenVar": 40
      },
      "kernels_config": {
        "python": {
          "delete_cmd_postfix": "",
          "delete_cmd_prefix": "del ",
          "library": "var_list.py",
          "varRefreshCmd": "print(var_dic_list())"
        },
        "r": {
          "delete_cmd_postfix": ") ",
          "delete_cmd_prefix": "rm(",
          "library": "var_list.r",
          "varRefreshCmd": "cat(var_dic_list()) "
        }
      },
      "types_to_exclude": [
        "module",
        "function",
        "builtin_function_or_method",
        "instance",
        "_Feature"
      ],
      "window_display": false
    }
  },
  "nbformat": 4,
  "nbformat_minor": 2
}