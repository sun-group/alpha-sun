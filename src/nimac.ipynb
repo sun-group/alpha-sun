{
 "cells": [
  {
   "cell_type": "code",
   "execution_count": 16,
   "metadata": {
    "scrolled": false
   },
   "outputs": [
    {
     "name": "stderr",
     "output_type": "stream",
     "text": [
      "Installing package into 'C:/Users/nimac/Documents/R/win-library/3.5'\n",
      "(as 'lib' is unspecified)\n",
      "Warning message:\n",
      "\"dependency 'BiocInstaller' is not available\"Warning message:\n",
      "\"package 'devtools' is in use and will not be installed\"Installing package into 'C:/Users/nimac/Documents/R/win-library/3.5'\n",
      "(as 'lib' is unspecified)\n",
      "also installing the dependency 'dplyr'\n",
      "\n",
      "Warning message:\n",
      "\"package 'tidytext' is in use and will not be installed\""
     ]
    },
    {
     "name": "stdout",
     "output_type": "stream",
     "text": [
      "package 'dplyr' successfully unpacked and MD5 sums checked\n"
     ]
    },
    {
     "name": "stderr",
     "output_type": "stream",
     "text": [
      "Warning message:\n",
      "\"cannot remove prior installation of package 'dplyr'\""
     ]
    },
    {
     "name": "stdout",
     "output_type": "stream",
     "text": [
      "\n",
      "The downloaded binary packages are in\n",
      "\tC:\\Users\\nimac\\AppData\\Local\\Temp\\RtmpW2gjPB\\downloaded_packages\n"
     ]
    },
    {
     "name": "stderr",
     "output_type": "stream",
     "text": [
      "Installing package into 'C:/Users/nimac/Documents/R/win-library/3.5'\n",
      "(as 'lib' is unspecified)\n",
      "Warning message:\n",
      "\"package 'persiandictionary' is in use and will not be installed\""
     ]
    },
    {
     "ename": "ERROR",
     "evalue": "Error in install.packages(tidyverse): object 'tidyverse' not found\n",
     "output_type": "error",
     "traceback": [
      "Error in install.packages(tidyverse): object 'tidyverse' not found\nTraceback:\n",
      "1. install.packages(tidyverse)"
     ]
    }
   ],
   "source": [
    "install.packages(\"devtools\", dependencies=TRUE)\n",
    "install.packages(\"tidytext\", dependencies=TRUE)\n",
    "install.packages(\"persiandictionary\", dependencies=TRUE)\n",
    "install.packages(tidyverse)\n",
    "library(\"devtools\")\n",
    "library(\"persiandictionary\")\n",
    "library(devtools)\n",
    "#sessionInfo()\n",
    "#getOption(\"encoding\")\n",
    "# install_github(\"juliasilge/tidytext\")\n",
    "library(tidytext)\n",
    "library(tidyverse)\n",
    "library(stringi)"
   ]
  },
  {
   "cell_type": "code",
   "execution_count": 2,
   "metadata": {},
   "outputs": [
    {
     "name": "stderr",
     "output_type": "stream",
     "text": [
      "Downloading GitHub repo juliasilge/tidytext@master\n"
     ]
    },
    {
     "name": "stdout",
     "output_type": "stream",
     "text": [
      "\n"
     ]
    },
    {
     "name": "stderr",
     "output_type": "stream",
     "text": [
      "WARNING: Rtools is required to build R packages, but is not currently installed.\n",
      "\n",
      "Please download and install Rtools 3.5 from http://cran.r-project.org/bin/windows/Rtools/.\n"
     ]
    },
    {
     "name": "stdout",
     "output_type": "stream",
     "text": [
      "v  checking for file 'C:\\Users\\nimac\\AppData\\Local\\Temp\\RtmpKCXeKV\\remotes273072a57b8a\\juliasilge-tidytext-2f0ec1d/DESCRIPTION' (500ms)\n",
      "-  preparing 'tidytext': (8.3s)\n",
      "v  checking DESCRIPTION meta-information ... \n",
      "-  checking for LF line-endings in source and make files and shell scripts (1.4s)\n",
      "-  checking for empty or unneeded directories\n",
      "-  looking to see if a 'data/datalist' file should be added\n",
      "-  building 'tidytext_0.2.0.900.tar.gz'\n",
      "   \n",
      "\r"
     ]
    },
    {
     "name": "stderr",
     "output_type": "stream",
     "text": [
      "Installing package into 'C:/Users/nimac/Documents/R/win-library/3.5'\n",
      "(as 'lib' is unspecified)\n"
     ]
    }
   ],
   "source": [
    "# install.packages(\"tidytext\", dependencies=TRUE)\n",
    "library(\"devtools\")\n",
    "install_github(\"juliasilge/tidytext\")"
   ]
  },
  {
   "cell_type": "code",
   "execution_count": 8,
   "metadata": {},
   "outputs": [],
   "source": [
    "library(tidyverse)\n",
    "library(tidytext)"
   ]
  },
  {
   "cell_type": "code",
   "execution_count": 9,
   "metadata": {},
   "outputs": [
    {
     "data": {
      "text/html": [
       "'LC_COLLATE=Persian_Iran.1256;LC_CTYPE=Persian_Iran.1256;LC_MONETARY=Persian_Iran.1256;LC_NUMERIC=C;LC_TIME=Persian_Iran.1256'"
      ],
      "text/latex": [
       "'LC\\_COLLATE=Persian\\_Iran.1256;LC\\_CTYPE=Persian\\_Iran.1256;LC\\_MONETARY=Persian\\_Iran.1256;LC\\_NUMERIC=C;LC\\_TIME=Persian\\_Iran.1256'"
      ],
      "text/markdown": [
       "'LC_COLLATE=Persian_Iran.1256;LC_CTYPE=Persian_Iran.1256;LC_MONETARY=Persian_Iran.1256;LC_NUMERIC=C;LC_TIME=Persian_Iran.1256'"
      ],
      "text/plain": [
       "[1] \"LC_COLLATE=Persian_Iran.1256;LC_CTYPE=Persian_Iran.1256;LC_MONETARY=Persian_Iran.1256;LC_NUMERIC=C;LC_TIME=Persian_Iran.1256\""
      ]
     },
     "metadata": {},
     "output_type": "display_data"
    }
   ],
   "source": [
    "Sys.setlocale(\"LC_ALL\", \"Persian\")"
   ]
  },
  {
   "cell_type": "code",
   "execution_count": 10,
   "metadata": {},
   "outputs": [],
   "source": [
    "df <- data_frame(text = c(\"به نام خداوند جان و خرد\", \n",
    "       \"کزین برتر اندیشه برنگذرد\",\n",
    "       \"خداوند نام و خداوند جای\",\n",
    "       \"خداوند روزی ده رهنمای\")) "
   ]
  },
  {
   "cell_type": "code",
   "execution_count": null,
   "metadata": {},
   "outputs": [],
   "source": []
  },
  {
   "cell_type": "code",
   "execution_count": 11,
   "metadata": {},
   "outputs": [
    {
     "data": {
      "text/html": [
       "<table>\n",
       "<thead><tr><th scope=col>word</th></tr></thead>\n",
       "<tbody>\n",
       "</tbody>\n",
       "</table>\n"
      ],
      "text/latex": [
       "\\begin{tabular}{r|l}\n",
       " word\\\\\n",
       "\\hline\n",
       "\\end{tabular}\n"
      ],
      "text/markdown": [
       "\n",
       "| word |\n",
       "|---|\n",
       "\n"
      ],
      "text/plain": [
       "     word"
      ]
     },
     "metadata": {},
     "output_type": "display_data"
    }
   ],
   "source": [
    "df %>% unnest_tokens(word, text)"
   ]
  },
  {
   "cell_type": "code",
   "execution_count": 43,
   "metadata": {},
   "outputs": [],
   "source": [
    "MyData <- read.csv(file=\"./resources/dataset.csv\", encoding=\"UTF-8\")"
   ]
  },
  {
   "cell_type": "code",
   "execution_count": 67,
   "metadata": {},
   "outputs": [
    {
     "data": {
      "text/html": [
       "<table>\n",
       "<thead><tr><th></th><th scope=col>desc</th><th scope=col>title</th></tr></thead>\n",
       "<tbody>\n",
       "\t<tr><th scope=row>990</th><td>گوشي تميز و به شرط اصلي مي باشد.\n",
       "فقط تو واتس آپ پي ام بديد!!!!!                                                                                                                                                                                                                                           </td><td>گوشي Iphone 7 128GIGکار کرده                                                                                                                                                                                                                                                                               </td></tr>\n",
       "\t<tr><th scope=row>991</th><td>سلام \n",
       "گوشي نو نو نو بدون حتي يک سر سوزن خط و خش و خال \n",
       "فوق العاده خوش رنگ و زيبا \n",
       "قيمت :$NUM                                                                                                                                                                                                            </td><td>گلکسي j$NUMدوسيم کارت                                                                                                                                                                                                                                                                                      </td></tr>\n",
       "\t<tr><th scope=row>992</th><td>گوشي اکبند ميباشد بقران خيلي قيمتشو خوب گذاشتم اصل امريكاست llaبه شرط مشتري واقعي زنگ بزنه                                                                                                                                                                                                                 </td><td>Iphone 6s 64 gold                                                                                                                                                                                                                                                                                          </td></tr>\n",
       "\t<tr><th scope=row>993</th><td><span style=white-space:pre-wrap>گوشي نو نو تقريبا &lt;U+06F1&gt; ماه گرفتم .تست کنيد .امتحان کنيد بعد بخريد.با گارد و ضربه گير                                                                                                                                                                                                                   </span></td><td><span style=white-space:pre-wrap>سامسونگ j$NUM                       </span>                                                                                                                                                                                                                                                                             </td></tr>\n",
       "\t<tr><th scope=row>994</th><td>سالم سالم درحده صفر بدون خش                                                                                                                                                                                                                                                                                </td><td>گلدp8لايت                                                                                                                                                                                                                                                                                                  </td></tr>\n",
       "\t<tr><th scope=row>995</th><td>سلام .گوشي از دبي واسم اوردن کاملا سالم .همراه کارتن تمام وسايل .اندرويد &lt;U+06F6&gt;.&lt;U+06F1&gt;..چهارهسته اي .دوربين&lt;U+06F8&gt;..عقب&lt;U+06F5&gt;...از اين طرح علکيا نيست .فيلم &lt;U+06F1&gt;&lt;U+06F0&gt;&lt;U+06F8&gt;&lt;U+06F0&gt;مثل ابخوردن اجرا ميکنه .هنگ نميکنه خداسرشاهده تاحالا هنگ نکرده تخفيف هم ميدم .ممنونم براي خريد پيام بديد</td><td><span style=white-space:pre-wrap>ايفون &lt;U+06F7&gt;پلاس فول کپي          </span>                                                                                                                                                                                                                                                                         </td></tr>\n",
       "\t<tr><th scope=row>996</th><td><span style=white-space:pre-wrap>با گرانتي &lt;U+06F1&gt;&lt;U+06F8&gt; ماهه تعويض.اکبند صفر صفر.بدون کوچکترين خش .استفاده رياد نشده &lt;U+06F5&gt; روز .فقط فروش.با c7 32gig اشتباه نگيريد .اکبنده گوشي$NUMهست بدون گارانتي و گلس اينا...                                                                                                                    </span></td><td><span style=white-space:pre-wrap>samsung c7.64gig                    </span>                                                                                                                                                                                                                                                                                         </td></tr>\n",
       "\t<tr><th scope=row>997</th><td><span style=white-space:pre-wrap>گوشي لايو دمو  &lt;U+06F3&gt;&lt;U+06F2&gt; گيگ رنگ گلد در حد آک + کارتن وسايل کامل  پلمپ تخفيف جزيي                                                                                                                                                                                                                   </span></td><td><span style=white-space:pre-wrap>S6 edge نسخه واي فاي                </span>                                                                                                                                                                                                                                                                                   </td></tr>\n",
       "\t<tr><th scope=row>998</th><td><span style=white-space:pre-wrap>کاملا تميز &lt;U+06F6&gt; ماه کارکرد بدون خط و خش .دو قاب و طلق محافظ.هدفون آکبند .لوازم کامل                                                                                                                                                                                                                    </span></td><td>galaxy note 5 n920 32gb.نوت &lt;U+06F5&gt;                                                                                                                                                                                                                                                                                                               </td></tr>\n",
       "\t<tr><th scope=row>999</th><td><span style=white-space:pre-wrap>با سلام. \n",
       "لوميا &lt;U+06F5&gt;&lt;U+06F2&gt;&lt;U+06F0&gt; \n",
       "تاچ شکسته ولي لمسش کار ميکنه.\n",
       "با &lt;U+06F5&gt;&lt;U+06F0&gt; تومان درست ميشه                                                                                                                                                                                             </span></td><td>نوکيا لوميا &lt;U+06F5&gt;&lt;U+06F2&gt;&lt;U+06F0&gt;                                                                                                                                                                                                                                                                                                                           </td></tr>\n",
       "\t<tr><th scope=row>1000</th><td><span style=white-space:pre-wrap>اندرويد &lt;U+06F6&gt;\n",
       "8هسته\n",
       "دوربين 13 ، جلو &lt;U+06F5&gt;\n",
       "رم 2\n",
       "حافظه 1&lt;U+06F6&gt; گيگ\n",
       "تميز ، سفيد رنگ \n",
       "متناسب با بازي با نرم افزار فوق العاده\n",
       "پيامک پاسخگو هستم\n",
       "باتشکر                                                                                                                                          </span></td><td><span style=white-space:pre-wrap>Huawei P8 Lite                      </span>                                                                                                                                                                                                                                                                                         </td></tr>\n",
       "</tbody>\n",
       "</table>\n"
      ],
      "text/latex": [
       "\\begin{tabular}{r|ll}\n",
       "  & desc & title\\\\\n",
       "\\hline\n",
       "\t990 & گوشي تميز و به شرط اصلي مي باشد.\n",
       "فقط تو واتس آپ پي ام بديد!!!!!                                                                                                                                                                                                                                            & گوشي Iphone 7 128GIGکار کرده                                                                                                                                                                                                                                                                               \\\\\n",
       "\t991 & سلام \n",
       "گوشي نو نو نو بدون حتي يک سر سوزن خط و خش و خال \n",
       "فوق العاده خوش رنگ و زيبا \n",
       "قيمت :\\$NUM                                                                                                                                                                                                             & گلکسي j\\$NUMدوسيم کارت                                                                                                                                                                                                                                                                                      \\\\\n",
       "\t992 & گوشي اکبند ميباشد بقران خيلي قيمتشو خوب گذاشتم اصل امريكاست llaبه شرط مشتري واقعي زنگ بزنه                                                                                                                                                                                                                  & Iphone 6s 64 gold                                                                                                                                                                                                                                                                                          \\\\\n",
       "\t993 & گوشي نو نو تقريبا <U+06F1> ماه گرفتم .تست کنيد .امتحان کنيد بعد بخريد.با گارد و ضربه گير                                                                                                                                                                                                                    & سامسونگ j\\$NUM                                                                                                                                                                                                                                                                                            \\\\\n",
       "\t994 & سالم سالم درحده صفر بدون خش                                                                                                                                                                                                                                                                                 & گلدp8لايت                                                                                                                                                                                                                                                                                                  \\\\\n",
       "\t995 & سلام .گوشي از دبي واسم اوردن کاملا سالم .همراه کارتن تمام وسايل .اندرويد <U+06F6>.<U+06F1>..چهارهسته اي .دوربين<U+06F8>..عقب<U+06F5>...از اين طرح علکيا نيست .فيلم <U+06F1><U+06F0><U+06F8><U+06F0>مثل ابخوردن اجرا ميکنه .هنگ نميکنه خداسرشاهده تاحالا هنگ نکرده تخفيف هم ميدم .ممنونم براي خريد پيام بديد & ايفون <U+06F7>پلاس فول کپي                                                                                                                                                                                                                                                                                 \\\\\n",
       "\t996 & با گرانتي <U+06F1><U+06F8> ماهه تعويض.اکبند صفر صفر.بدون کوچکترين خش .استفاده رياد نشده <U+06F5> روز .فقط فروش.با c7 32gig اشتباه نگيريد .اکبنده گوشي\\$NUMهست بدون گارانتي و گلس اينا...                                                                                                                     & samsung c7.64gig                                                                                                                                                                                                                                                                                             \\\\\n",
       "\t997 & گوشي لايو دمو  <U+06F3><U+06F2> گيگ رنگ گلد در حد آک + کارتن وسايل کامل  پلمپ تخفيف جزيي                                                                                                                                                                                                                    & S6 edge نسخه واي فاي                                                                                                                                                                                                                                                                                       \\\\\n",
       "\t998 & کاملا تميز <U+06F6> ماه کارکرد بدون خط و خش .دو قاب و طلق محافظ.هدفون آکبند .لوازم کامل                                                                                                                                                                                                                     & galaxy note 5 n920 32gb.نوت <U+06F5>                                                                                                                                                                                                                                                                       \\\\\n",
       "\t999 & با سلام. \n",
       "لوميا <U+06F5><U+06F2><U+06F0> \n",
       "تاچ شکسته ولي لمسش کار ميکنه.\n",
       "با <U+06F5><U+06F0> تومان درست ميشه                                                                                                                                                                                              & نوکيا لوميا <U+06F5><U+06F2><U+06F0>                                                                                                                                                                                                                                                                       \\\\\n",
       "\t1000 & اندرويد <U+06F6>\n",
       "8هسته\n",
       "دوربين 13 ، جلو <U+06F5>\n",
       "رم 2\n",
       "حافظه 1<U+06F6> گيگ\n",
       "تميز ، سفيد رنگ \n",
       "متناسب با بازي با نرم افزار فوق العاده\n",
       "پيامک پاسخگو هستم\n",
       "باتشکر                                                                                                                                           & Huawei P8 Lite                                                                                                                                                                                                                                                                                             \\\\\n",
       "\\end{tabular}\n"
      ],
      "text/markdown": [
       "\n",
       "| <!--/--> | desc | title |\n",
       "|---|---|---|\n",
       "| 990 | گوشي تميز و به شرط اصلي مي باشد.\n",
       "فقط تو واتس آپ پي ام بديد!!!!!                                                                                                                                                                                                                                            | گوشي Iphone 7 128GIGکار کرده                                                                                                                                                                                                                                                                                |\n",
       "| 991 | سلام \n",
       "گوشي نو نو نو بدون حتي يک سر سوزن خط و خش و خال \n",
       "فوق العاده خوش رنگ و زيبا \n",
       "قيمت :$NUM                                                                                                                                                                                                             | گلکسي j$NUMدوسيم کارت                                                                                                                                                                                                                                                                                       |\n",
       "| 992 | گوشي اکبند ميباشد بقران خيلي قيمتشو خوب گذاشتم اصل امريكاست llaبه شرط مشتري واقعي زنگ بزنه                                                                                                                                                                                                                  | Iphone 6s 64 gold                                                                                                                                                                                                                                                                                           |\n",
       "| 993 | گوشي نو نو تقريبا <U+06F1> ماه گرفتم .تست کنيد .امتحان کنيد بعد بخريد.با گارد و ضربه گير                                                                                                                                                                                                                    | سامسونگ j$NUM                                                                                                                                                                                                                                                                                               |\n",
       "| 994 | سالم سالم درحده صفر بدون خش                                                                                                                                                                                                                                                                                 | گلدp8لايت                                                                                                                                                                                                                                                                                                   |\n",
       "| 995 | سلام .گوشي از دبي واسم اوردن کاملا سالم .همراه کارتن تمام وسايل .اندرويد <U+06F6>.<U+06F1>..چهارهسته اي .دوربين<U+06F8>..عقب<U+06F5>...از اين طرح علکيا نيست .فيلم <U+06F1><U+06F0><U+06F8><U+06F0>مثل ابخوردن اجرا ميکنه .هنگ نميکنه خداسرشاهده تاحالا هنگ نکرده تخفيف هم ميدم .ممنونم براي خريد پيام بديد | ايفون <U+06F7>پلاس فول کپي                                                                                                                                                                                                                                                                                  |\n",
       "| 996 | با گرانتي <U+06F1><U+06F8> ماهه تعويض.اکبند صفر صفر.بدون کوچکترين خش .استفاده رياد نشده <U+06F5> روز .فقط فروش.با c7 32gig اشتباه نگيريد .اکبنده گوشي$NUMهست بدون گارانتي و گلس اينا...                                                                                                                     | samsung c7.64gig                                                                                                                                                                                                                                                                                            |\n",
       "| 997 | گوشي لايو دمو  <U+06F3><U+06F2> گيگ رنگ گلد در حد آک + کارتن وسايل کامل  پلمپ تخفيف جزيي                                                                                                                                                                                                                    | S6 edge نسخه واي فاي                                                                                                                                                                                                                                                                                        |\n",
       "| 998 | کاملا تميز <U+06F6> ماه کارکرد بدون خط و خش .دو قاب و طلق محافظ.هدفون آکبند .لوازم کامل                                                                                                                                                                                                                     | galaxy note 5 n920 32gb.نوت <U+06F5>                                                                                                                                                                                                                                                                        |\n",
       "| 999 | با سلام. \n",
       "لوميا <U+06F5><U+06F2><U+06F0> \n",
       "تاچ شکسته ولي لمسش کار ميکنه.\n",
       "با <U+06F5><U+06F0> تومان درست ميشه                                                                                                                                                                                              | نوکيا لوميا <U+06F5><U+06F2><U+06F0>                                                                                                                                                                                                                                                                        |\n",
       "| 1000 | اندرويد <U+06F6>\n",
       "8هسته\n",
       "دوربين 13 ، جلو <U+06F5>\n",
       "رم 2\n",
       "حافظه 1<U+06F6> گيگ\n",
       "تميز ، سفيد رنگ \n",
       "متناسب با بازي با نرم افزار فوق العاده\n",
       "پيامک پاسخگو هستم\n",
       "باتشکر                                                                                                                                           | Huawei P8 Lite                                                                                                                                                                                                                                                                                              |\n",
       "\n"
      ],
      "text/plain": [
       "     desc                                                                                                                                                                                                                                                                                                       \n",
       "990  گوشي تميز و به شرط اصلي مي باشد.\\nفقط تو واتس آپ پي ام بديد!!!!!                                                                                                                                                                                                                                           \n",
       "991  سلام \\nگوشي نو نو نو بدون حتي يک سر سوزن خط و خش و خال \\nفوق العاده خوش رنگ و زيبا \\nقيمت :$NUM                                                                                                                                                                                                            \n",
       "992  گوشي اکبند ميباشد بقران خيلي قيمتشو خوب گذاشتم اصل امريكاست llaبه شرط مشتري واقعي زنگ بزنه                                                                                                                                                                                                                 \n",
       "993  گوشي نو نو تقريبا <U+06F1> ماه گرفتم .تست کنيد .امتحان کنيد بعد بخريد.با گارد و ضربه گير                                                                                                                                                                                                                   \n",
       "994  سالم سالم درحده صفر بدون خش                                                                                                                                                                                                                                                                                \n",
       "995  سلام .گوشي از دبي واسم اوردن کاملا سالم .همراه کارتن تمام وسايل .اندرويد <U+06F6>.<U+06F1>..چهارهسته اي .دوربين<U+06F8>..عقب<U+06F5>...از اين طرح علکيا نيست .فيلم <U+06F1><U+06F0><U+06F8><U+06F0>مثل ابخوردن اجرا ميکنه .هنگ نميکنه خداسرشاهده تاحالا هنگ نکرده تخفيف هم ميدم .ممنونم براي خريد پيام بديد\n",
       "996  با گرانتي <U+06F1><U+06F8> ماهه تعويض.اکبند صفر صفر.بدون کوچکترين خش .استفاده رياد نشده <U+06F5> روز .فقط فروش.با c7 32gig اشتباه نگيريد .اکبنده گوشي$NUMهست بدون گارانتي و گلس اينا...                                                                                                                    \n",
       "997  گوشي لايو دمو  <U+06F3><U+06F2> گيگ رنگ گلد در حد آک + کارتن وسايل کامل  پلمپ تخفيف جزيي                                                                                                                                                                                                                   \n",
       "998  کاملا تميز <U+06F6> ماه کارکرد بدون خط و خش .دو قاب و طلق محافظ.هدفون آکبند .لوازم کامل                                                                                                                                                                                                                    \n",
       "999  با سلام. \\nلوميا <U+06F5><U+06F2><U+06F0> \\nتاچ شکسته ولي لمسش کار ميکنه.\\nبا <U+06F5><U+06F0> تومان درست ميشه                                                                                                                                                                                             \n",
       "1000 اندرويد <U+06F6>\\n8هسته\\nدوربين 13 ، جلو <U+06F5>\\nرم 2\\nحافظه 1<U+06F6> گيگ\\nتميز ، سفيد رنگ \\nمتناسب با بازي با نرم افزار فوق العاده\\nپيامک پاسخگو هستم\\nباتشکر                                                                                                                                          \n",
       "     title                               \n",
       "990  گوشي Iphone 7 128GIGکار کرده        \n",
       "991  گلکسي j$NUMدوسيم کارت               \n",
       "992  Iphone 6s 64 gold                   \n",
       "993  سامسونگ j$NUM                       \n",
       "994  گلدp8لايت                           \n",
       "995  ايفون <U+06F7>پلاس فول کپي          \n",
       "996  samsung c7.64gig                    \n",
       "997  S6 edge نسخه واي فاي                \n",
       "998  galaxy note 5 n920 32gb.نوت <U+06F5>\n",
       "999  نوکيا لوميا <U+06F5><U+06F2><U+06F0>\n",
       "1000 Huawei P8 Lite                      "
      ]
     },
     "metadata": {},
     "output_type": "display_data"
    }
   ],
   "source": [
    "#slice(MyData, 530:560)\n",
    "MyData[c(\"desc\",\"title\")][990:1000,]"
   ]
  },
  {
   "cell_type": "code",
   "execution_count": 53,
   "metadata": {},
   "outputs": [],
   "source": [
    "write.table(MyData[c(\"desc\",\"title\")], file = \"file.csv\",row.names=FALSE, na=\"\",col.names=FALSE, sep=\"$\", fileEncoding=\"UTF-8\")"
   ]
  },
  {
   "cell_type": "code",
   "execution_count": 30,
   "metadata": {},
   "outputs": [
    {
     "data": {
      "text/html": [
       "<table>\n",
       "<thead><tr><th scope=col>archive_by_user</th><th scope=col>city</th><th scope=col>created_at</th><th scope=col>image_count</th><th scope=col>desc</th><th scope=col>image_count.1</th><th scope=col>mileage</th><th scope=col>platform</th><th scope=col>price</th><th scope=col>title</th><th scope=col>type</th><th scope=col>year</th></tr></thead>\n",
       "<tbody>\n",
       "\t<tr><td>False                                                                                                                                                      </td><td>Tehran                                                                                                                                                     </td><td>Thursday 07PM                                                                                                                                              </td><td>0                                                                                                                                                          </td><td>گوشي سالم ونو                                                                                                                                              </td><td>0                                                                                                                                                          </td><td>NA                                                                                                                                                         </td><td>mobile                                                                                                                                                     </td><td> 250000                                                                                                                                                    </td><td>گوشي آيفون مدلs7                                                                                                                                           </td><td>NA                                                                                                                                                         </td><td>NA                                                                                                                                                         </td></tr>\n",
       "\t<tr><td>True                                                                                                                                                       </td><td>Shiraz                                                                                                                                                     </td><td>Thursday 03PM                                                                                                                                              </td><td>0                                                                                                                                                          </td><td>سلام \n",
       "4s 64gig LLAسفيد \n",
       "عکس نذاشتم چون يه نقطه هم خط و خش نداره\n",
       "همراه با يک گلاس و بک کاور\n",
       "ب شرط اصلي\n",
       "تخفيف جزئي بخاطر نداشتن هندزفري\n",
       "جوابگو تماس فقط</td><td>0                                                                                                                                                          </td><td>NA                                                                                                                                                         </td><td>mobile                                                                                                                                                     </td><td> 550000                                                                                                                                                    </td><td>آيفون 4s 64gig                                                                                                                                             </td><td>NA                                                                                                                                                         </td><td>NA                                                                                                                                                         </td></tr>\n",
       "\t<tr><td>True                                                                                                                                                       </td><td>Shiraz                                                                                                                                                     </td><td>Wednesday 01PM                                                                                                                                             </td><td>3                                                                                                                                                          </td><td>با سلام \n",
       "\n",
       "فروش گوشي اس6 سفيد 32 گيگ\n",
       "\n",
       "فقط گوشي لايو دمو ميباشد که سيمکارت نميخورد \n",
       "\n",
       "تميززز در حد نو ميباشد \n",
       "\n",
       "فقط خود گوشي هست \n",
       "\n",
       "با تشکر           </td><td>3                                                                                                                                                          </td><td>NA                                                                                                                                                         </td><td>mobile                                                                                                                                                     </td><td> 550000                                                                                                                                                    </td><td>گوشي موبايل سامسونگ اس6 لايو دمو                                                                                                                           </td><td>NA                                                                                                                                                         </td><td>NA                                                                                                                                                         </td></tr>\n",
       "\t<tr><td>False                                                                                                                                                                                              </td><td>Tabriz                                                                                                                                                                                             </td><td><span style=white-space:pre-wrap>Sunday 07PM   </span>                                                                                                                                             </td><td>3                                                                                                                                                                                                  </td><td><span style=white-space:pre-wrap>گوشي در حد آک و بدون تعمير.                                                                                                                                </span></td><td>3                                                                                                                                                                                                  </td><td>NA                                                                                                                                                                                                 </td><td>mobile                                                                                                                                                                                             </td><td><span style=white-space:pre-wrap>  90000</span>                                                                                                                                                    </td><td>فروش گوشي عطيقه نوکيا &lt;U+06F1&gt;&lt;U+06F1&gt;&lt;U+06F0&gt;&lt;U+06F0&gt;.                                                                                                                    </td><td>NA                                                                                                                                                                                                 </td><td>NA                                                                                                                                                                                                 </td></tr>\n",
       "\t<tr><td>True                                                                                                                                                       </td><td>Ahvaz                                                                                                                                                      </td><td>Friday 02PM                                                                                                                                                </td><td>2                                                                                                                                                          </td><td>گوشي مدل پايين تميزه                                                                                                                                       </td><td>2                                                                                                                                                          </td><td>NA                                                                                                                                                         </td><td>mobile                                                                                                                                                     </td><td> 300000                                                                                                                                                    </td><td>گوشي سامسونگ مدل پايين                                                                                                                                     </td><td>NA                                                                                                                                                         </td><td>NA                                                                                                                                                         </td></tr>\n",
       "\t<tr><td>True                                                                                                                                                       </td><td>Shiraz                                                                                                                                                     </td><td>Saturday 06PM                                                                                                                                              </td><td>3                                                                                                                                                          </td><td>خيلي خيلي تميز هست واز لحاظ باطري که حرف نداره برا همين ميتونين تست کنين که خيالتون راحت شه فقط فقط فروشي هست و تماس جوابگو هستم.                          </td><td>3                                                                                                                                                          </td><td>NA                                                                                                                                                         </td><td>mobile                                                                                                                                                     </td><td>1000000                                                                                                                                                    </td><td>iPhone5s32گري                                                                                                                                              </td><td>NA                                                                                                                                                         </td><td>NA                                                                                                                                                         </td></tr>\n",
       "\t<tr><td>True                                                                                                                                                       </td><td>Shiraz                                                                                                                                                     </td><td>Thursday 06AM                                                                                                                                              </td><td>1                                                                                                                                                          </td><td>به صورت نقد و اقساط.با تشکر از مديريت ديوار                                                                                                                </td><td>1                                                                                                                                                          </td><td>NA                                                                                                                                                         </td><td>mobile                                                                                                                                                     </td><td> 500000                                                                                                                                                    </td><td>گوشي هاي جديد جي ال ايکس با گارانتي                                                                                                                        </td><td>NA                                                                                                                                                         </td><td>NA                                                                                                                                                         </td></tr>\n",
       "\t<tr><td>False                                                                                                                                                      </td><td>Tehran                                                                                                                                                     </td><td>Sunday 09PM                                                                                                                                                </td><td>3                                                                                                                                                          </td><td>دو سيم کارت.يک سال و نيم کارکرده خيلي تميز و سالم. نوک مدادي به همراه جعبه و هدفون و شارژر و طلق ضد خش و محافظ.                                            </td><td>3                                                                                                                                                          </td><td>NA                                                                                                                                                         </td><td>mobile                                                                                                                                                     </td><td> 520000                                                                                                                                                    </td><td>گوشي سامسونگ e5 در حد نو                                                                                                                                   </td><td>NA                                                                                                                                                         </td><td>NA                                                                                                                                                         </td></tr>\n",
       "\t<tr><td>False                                                                                                                                                      </td><td>Karaj                                                                                                                                                      </td><td>Friday 12PM                                                                                                                                                </td><td>2                                                                                                                                                          </td><td>سالم بدون ايراد از اولم دست خودم بوده                                                                                                                      </td><td>2                                                                                                                                                          </td><td>NA                                                                                                                                                         </td><td>mobile                                                                                                                                                     </td><td> 250000                                                                                                                                                    </td><td>گوشي هواوي  g610                                                                                                                                           </td><td>NA                                                                                                                                                         </td><td>NA                                                                                                                                                         </td></tr>\n",
       "\t<tr><td>True                                                                                                                                                                                               </td><td>Tehran                                                                                                                                                                                             </td><td><span style=white-space:pre-wrap>Tuesday 06AM  </span>                                                                                                                                             </td><td>1                                                                                                                                                                                                  </td><td><span style=white-space:pre-wrap>سالم به شرط در‌lla                                                                                                                                         </span></td><td>1                                                                                                                                                                                                  </td><td>NA                                                                                                                                                                                                 </td><td>mobile                                                                                                                                                                                             </td><td>1300000                                                                                                                                                                                            </td><td><span style=white-space:pre-wrap>ايفون&lt;U+06F6&gt;‌گلد‌&lt;U+06F1&gt;&lt;U+06F6&gt;‌گيگ                 </span>                                                                                  </td><td>NA                                                                                                                                                                                                 </td><td>NA                                                                                                                                                                                                 </td></tr>\n",
       "</tbody>\n",
       "</table>\n"
      ],
      "text/latex": [
       "\\begin{tabular}{r|llllllllllll}\n",
       " archive\\_by\\_user & city & created\\_at & image\\_count & desc & image\\_count.1 & mileage & platform & price & title & type & year\\\\\n",
       "\\hline\n",
       "\t False                                                                                                                                                       & Tehran                                                                                                                                                      & Thursday 07PM                                                                                                                                               & 0                                                                                                                                                           & گوشي سالم ونو                                                                                                                                               & 0                                                                                                                                                           & NA                                                                                                                                                          & mobile                                                                                                                                                      &  250000                                                                                                                                                     & گوشي آيفون مدلs7                                                                                                                                            & NA                                                                                                                                                          & NA                                                                                                                                                         \\\\\n",
       "\t True                                                                                                                                                        & Shiraz                                                                                                                                                      & Thursday 03PM                                                                                                                                               & 0                                                                                                                                                           & سلام \n",
       "4s 64gig LLAسفيد \n",
       "عکس نذاشتم چون يه نقطه هم خط و خش نداره\n",
       "همراه با يک گلاس و بک کاور\n",
       "ب شرط اصلي\n",
       "تخفيف جزئي بخاطر نداشتن هندزفري\n",
       "جوابگو تماس فقط & 0                                                                                                                                                           & NA                                                                                                                                                          & mobile                                                                                                                                                      &  550000                                                                                                                                                     & آيفون 4s 64gig                                                                                                                                              & NA                                                                                                                                                          & NA                                                                                                                                                         \\\\\n",
       "\t True                                                                                                                                                        & Shiraz                                                                                                                                                      & Wednesday 01PM                                                                                                                                              & 3                                                                                                                                                           & با سلام \n",
       "\n",
       "فروش گوشي اس6 سفيد 32 گيگ\n",
       "\n",
       "فقط گوشي لايو دمو ميباشد که سيمکارت نميخورد \n",
       "\n",
       "تميززز در حد نو ميباشد \n",
       "\n",
       "فقط خود گوشي هست \n",
       "\n",
       "با تشکر            & 3                                                                                                                                                           & NA                                                                                                                                                          & mobile                                                                                                                                                      &  550000                                                                                                                                                     & گوشي موبايل سامسونگ اس6 لايو دمو                                                                                                                            & NA                                                                                                                                                          & NA                                                                                                                                                         \\\\\n",
       "\t False                                                                                                                                                       & Tabriz                                                                                                                                                      & Sunday 07PM                                                                                                                                                 & 3                                                                                                                                                           & گوشي در حد آک و بدون تعمير.                                                                                                                                 & 3                                                                                                                                                           & NA                                                                                                                                                          & mobile                                                                                                                                                      &   90000                                                                                                                                                     & فروش گوشي عطيقه نوکيا <U+06F1><U+06F1><U+06F0><U+06F0>.                                                                                                     & NA                                                                                                                                                          & NA                                                                                                                                                         \\\\\n",
       "\t True                                                                                                                                                        & Ahvaz                                                                                                                                                       & Friday 02PM                                                                                                                                                 & 2                                                                                                                                                           & گوشي مدل پايين تميزه                                                                                                                                        & 2                                                                                                                                                           & NA                                                                                                                                                          & mobile                                                                                                                                                      &  300000                                                                                                                                                     & گوشي سامسونگ مدل پايين                                                                                                                                      & NA                                                                                                                                                          & NA                                                                                                                                                         \\\\\n",
       "\t True                                                                                                                                                        & Shiraz                                                                                                                                                      & Saturday 06PM                                                                                                                                               & 3                                                                                                                                                           & خيلي خيلي تميز هست واز لحاظ باطري که حرف نداره برا همين ميتونين تست کنين که خيالتون راحت شه فقط فقط فروشي هست و تماس جوابگو هستم.                           & 3                                                                                                                                                           & NA                                                                                                                                                          & mobile                                                                                                                                                      & 1000000                                                                                                                                                     & iPhone5s32گري                                                                                                                                               & NA                                                                                                                                                          & NA                                                                                                                                                         \\\\\n",
       "\t True                                                                                                                                                        & Shiraz                                                                                                                                                      & Thursday 06AM                                                                                                                                               & 1                                                                                                                                                           & به صورت نقد و اقساط.با تشکر از مديريت ديوار                                                                                                                 & 1                                                                                                                                                           & NA                                                                                                                                                          & mobile                                                                                                                                                      &  500000                                                                                                                                                     & گوشي هاي جديد جي ال ايکس با گارانتي                                                                                                                         & NA                                                                                                                                                          & NA                                                                                                                                                         \\\\\n",
       "\t False                                                                                                                                                       & Tehran                                                                                                                                                      & Sunday 09PM                                                                                                                                                 & 3                                                                                                                                                           & دو سيم کارت.يک سال و نيم کارکرده خيلي تميز و سالم. نوک مدادي به همراه جعبه و هدفون و شارژر و طلق ضد خش و محافظ.                                             & 3                                                                                                                                                           & NA                                                                                                                                                          & mobile                                                                                                                                                      &  520000                                                                                                                                                     & گوشي سامسونگ e5 در حد نو                                                                                                                                    & NA                                                                                                                                                          & NA                                                                                                                                                         \\\\\n",
       "\t False                                                                                                                                                       & Karaj                                                                                                                                                       & Friday 12PM                                                                                                                                                 & 2                                                                                                                                                           & سالم بدون ايراد از اولم دست خودم بوده                                                                                                                       & 2                                                                                                                                                           & NA                                                                                                                                                          & mobile                                                                                                                                                      &  250000                                                                                                                                                     & گوشي هواوي  g610                                                                                                                                            & NA                                                                                                                                                          & NA                                                                                                                                                         \\\\\n",
       "\t True                                                                                                                                                        & Tehran                                                                                                                                                      & Tuesday 06AM                                                                                                                                                & 1                                                                                                                                                           & سالم به شرط در‌lla                                                                                                                                          & 1                                                                                                                                                           & NA                                                                                                                                                          & mobile                                                                                                                                                      & 1300000                                                                                                                                                     & ايفون<U+06F6>‌گلد‌<U+06F1><U+06F6>‌گيگ                                                                                                                      & NA                                                                                                                                                          & NA                                                                                                                                                         \\\\\n",
       "\\end{tabular}\n"
      ],
      "text/markdown": [
       "\n",
       "| archive_by_user | city | created_at | image_count | desc | image_count.1 | mileage | platform | price | title | type | year |\n",
       "|---|---|---|---|---|---|---|---|---|---|---|---|\n",
       "| False                                                                                                                                                       | Tehran                                                                                                                                                      | Thursday 07PM                                                                                                                                               | 0                                                                                                                                                           | گوشي سالم ونو                                                                                                                                               | 0                                                                                                                                                           | NA                                                                                                                                                          | mobile                                                                                                                                                      |  250000                                                                                                                                                     | گوشي آيفون مدلs7                                                                                                                                            | NA                                                                                                                                                          | NA                                                                                                                                                          |\n",
       "| True                                                                                                                                                        | Shiraz                                                                                                                                                      | Thursday 03PM                                                                                                                                               | 0                                                                                                                                                           | سلام \n",
       "4s 64gig LLAسفيد \n",
       "عکس نذاشتم چون يه نقطه هم خط و خش نداره\n",
       "همراه با يک گلاس و بک کاور\n",
       "ب شرط اصلي\n",
       "تخفيف جزئي بخاطر نداشتن هندزفري\n",
       "جوابگو تماس فقط | 0                                                                                                                                                           | NA                                                                                                                                                          | mobile                                                                                                                                                      |  550000                                                                                                                                                     | آيفون 4s 64gig                                                                                                                                              | NA                                                                                                                                                          | NA                                                                                                                                                          |\n",
       "| True                                                                                                                                                        | Shiraz                                                                                                                                                      | Wednesday 01PM                                                                                                                                              | 3                                                                                                                                                           | با سلام \n",
       "\n",
       "فروش گوشي اس6 سفيد 32 گيگ\n",
       "\n",
       "فقط گوشي لايو دمو ميباشد که سيمکارت نميخورد \n",
       "\n",
       "تميززز در حد نو ميباشد \n",
       "\n",
       "فقط خود گوشي هست \n",
       "\n",
       "با تشکر            | 3                                                                                                                                                           | NA                                                                                                                                                          | mobile                                                                                                                                                      |  550000                                                                                                                                                     | گوشي موبايل سامسونگ اس6 لايو دمو                                                                                                                            | NA                                                                                                                                                          | NA                                                                                                                                                          |\n",
       "| False                                                                                                                                                       | Tabriz                                                                                                                                                      | Sunday 07PM                                                                                                                                                 | 3                                                                                                                                                           | گوشي در حد آک و بدون تعمير.                                                                                                                                 | 3                                                                                                                                                           | NA                                                                                                                                                          | mobile                                                                                                                                                      |   90000                                                                                                                                                     | فروش گوشي عطيقه نوکيا <U+06F1><U+06F1><U+06F0><U+06F0>.                                                                                                     | NA                                                                                                                                                          | NA                                                                                                                                                          |\n",
       "| True                                                                                                                                                        | Ahvaz                                                                                                                                                       | Friday 02PM                                                                                                                                                 | 2                                                                                                                                                           | گوشي مدل پايين تميزه                                                                                                                                        | 2                                                                                                                                                           | NA                                                                                                                                                          | mobile                                                                                                                                                      |  300000                                                                                                                                                     | گوشي سامسونگ مدل پايين                                                                                                                                      | NA                                                                                                                                                          | NA                                                                                                                                                          |\n",
       "| True                                                                                                                                                        | Shiraz                                                                                                                                                      | Saturday 06PM                                                                                                                                               | 3                                                                                                                                                           | خيلي خيلي تميز هست واز لحاظ باطري که حرف نداره برا همين ميتونين تست کنين که خيالتون راحت شه فقط فقط فروشي هست و تماس جوابگو هستم.                           | 3                                                                                                                                                           | NA                                                                                                                                                          | mobile                                                                                                                                                      | 1000000                                                                                                                                                     | iPhone5s32گري                                                                                                                                               | NA                                                                                                                                                          | NA                                                                                                                                                          |\n",
       "| True                                                                                                                                                        | Shiraz                                                                                                                                                      | Thursday 06AM                                                                                                                                               | 1                                                                                                                                                           | به صورت نقد و اقساط.با تشکر از مديريت ديوار                                                                                                                 | 1                                                                                                                                                           | NA                                                                                                                                                          | mobile                                                                                                                                                      |  500000                                                                                                                                                     | گوشي هاي جديد جي ال ايکس با گارانتي                                                                                                                         | NA                                                                                                                                                          | NA                                                                                                                                                          |\n",
       "| False                                                                                                                                                       | Tehran                                                                                                                                                      | Sunday 09PM                                                                                                                                                 | 3                                                                                                                                                           | دو سيم کارت.يک سال و نيم کارکرده خيلي تميز و سالم. نوک مدادي به همراه جعبه و هدفون و شارژر و طلق ضد خش و محافظ.                                             | 3                                                                                                                                                           | NA                                                                                                                                                          | mobile                                                                                                                                                      |  520000                                                                                                                                                     | گوشي سامسونگ e5 در حد نو                                                                                                                                    | NA                                                                                                                                                          | NA                                                                                                                                                          |\n",
       "| False                                                                                                                                                       | Karaj                                                                                                                                                       | Friday 12PM                                                                                                                                                 | 2                                                                                                                                                           | سالم بدون ايراد از اولم دست خودم بوده                                                                                                                       | 2                                                                                                                                                           | NA                                                                                                                                                          | mobile                                                                                                                                                      |  250000                                                                                                                                                     | گوشي هواوي  g610                                                                                                                                            | NA                                                                                                                                                          | NA                                                                                                                                                          |\n",
       "| True                                                                                                                                                        | Tehran                                                                                                                                                      | Tuesday 06AM                                                                                                                                                | 1                                                                                                                                                           | سالم به شرط در‌lla                                                                                                                                          | 1                                                                                                                                                           | NA                                                                                                                                                          | mobile                                                                                                                                                      | 1300000                                                                                                                                                     | ايفون<U+06F6>‌گلد‌<U+06F1><U+06F6>‌گيگ                                                                                                                      | NA                                                                                                                                                          | NA                                                                                                                                                          |\n",
       "\n"
      ],
      "text/plain": [
       "   archive_by_user city   created_at     image_count\n",
       "1  False           Tehran Thursday 07PM  0          \n",
       "2  True            Shiraz Thursday 03PM  0          \n",
       "3  True            Shiraz Wednesday 01PM 3          \n",
       "4  False           Tabriz Sunday 07PM    3          \n",
       "5  True            Ahvaz  Friday 02PM    2          \n",
       "6  True            Shiraz Saturday 06PM  3          \n",
       "7  True            Shiraz Thursday 06AM  1          \n",
       "8  False           Tehran Sunday 09PM    3          \n",
       "9  False           Karaj  Friday 12PM    2          \n",
       "10 True            Tehran Tuesday 06AM   1          \n",
       "   desc                                                                                                                                                       \n",
       "1  گوشي سالم ونو                                                                                                                                              \n",
       "2  سلام \\n4s 64gig LLAسفيد \\nعکس نذاشتم چون يه نقطه هم خط و خش نداره\\nهمراه با يک گلاس و بک کاور\\nب شرط اصلي\\nتخفيف جزئي بخاطر نداشتن هندزفري\\nجوابگو تماس فقط\n",
       "3  با سلام \\n\\nفروش گوشي اس6 سفيد 32 گيگ\\n\\nفقط گوشي لايو دمو ميباشد که سيمکارت نميخورد \\n\\nتميززز در حد نو ميباشد \\n\\nفقط خود گوشي هست \\n\\nبا تشکر           \n",
       "4  گوشي در حد آک و بدون تعمير.                                                                                                                                \n",
       "5  گوشي مدل پايين تميزه                                                                                                                                       \n",
       "6  خيلي خيلي تميز هست واز لحاظ باطري که حرف نداره برا همين ميتونين تست کنين که خيالتون راحت شه فقط فقط فروشي هست و تماس جوابگو هستم.                          \n",
       "7  به صورت نقد و اقساط.با تشکر از مديريت ديوار                                                                                                                \n",
       "8  دو سيم کارت.يک سال و نيم کارکرده خيلي تميز و سالم. نوک مدادي به همراه جعبه و هدفون و شارژر و طلق ضد خش و محافظ.                                            \n",
       "9  سالم بدون ايراد از اولم دست خودم بوده                                                                                                                      \n",
       "10 سالم به شرط در\\235lla                                                                                                                                         \n",
       "   image_count.1 mileage platform price  \n",
       "1  0             NA      mobile    250000\n",
       "2  0             NA      mobile    550000\n",
       "3  3             NA      mobile    550000\n",
       "4  3             NA      mobile     90000\n",
       "5  2             NA      mobile    300000\n",
       "6  3             NA      mobile   1000000\n",
       "7  1             NA      mobile    500000\n",
       "8  3             NA      mobile    520000\n",
       "9  2             NA      mobile    250000\n",
       "10 1             NA      mobile   1300000\n",
       "   title                                                   type year\n",
       "1  گوشي آيفون مدلs7                                        NA   NA  \n",
       "2  آيفون 4s 64gig                                          NA   NA  \n",
       "3  گوشي موبايل سامسونگ اس6 لايو دمو                        NA   NA  \n",
       "4  فروش گوشي عطيقه نوکيا <U+06F1><U+06F1><U+06F0><U+06F0>. NA   NA  \n",
       "5  گوشي سامسونگ مدل پايين                                  NA   NA  \n",
       "6  iPhone5s32گري                                           NA   NA  \n",
       "7  گوشي هاي جديد جي ال ايکس با گارانتي                     NA   NA  \n",
       "8  گوشي سامسونگ e5 در حد نو                                NA   NA  \n",
       "9  گوشي هواوي  g610                                        NA   NA  \n",
       "10 ايفون<U+06F6>\\235گلد\\235<U+06F1><U+06F6>\\235گيگ                  NA   NA  "
      ]
     },
     "metadata": {},
     "output_type": "display_data"
    }
   ],
   "source": []
  },
  {
   "cell_type": "code",
   "execution_count": null,
   "metadata": {},
   "outputs": [],
   "source": []
  }
 ],
 "metadata": {
  "kernelspec": {
   "display_name": "R",
   "language": "R",
   "name": "ir"
  },
  "language_info": {
   "codemirror_mode": "r",
   "file_extension": ".r",
   "mimetype": "text/x-r-source",
   "name": "R",
   "pygments_lexer": "r",
   "version": "3.5.2"
  }
 },
 "nbformat": 4,
 "nbformat_minor": 2
}
