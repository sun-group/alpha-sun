{
 "cells": [
  {
   "cell_type": "code",
   "execution_count": 42,
   "metadata": {},
   "outputs": [],
   "source": [
    "import pandas as pd"
   ]
  },
  {
   "cell_type": "code",
   "execution_count": 248,
   "metadata": {},
   "outputs": [],
   "source": [
    "df= pd.read_csv(\"resources/divar_posts_dataset.csv\")"
   ]
  },
  {
   "cell_type": "code",
   "execution_count": 243,
   "metadata": {
    "scrolled": false
   },
   "outputs": [
    {
     "name": "stdout",
     "output_type": "stream",
     "text": [
      "count    3.700000e+02\n",
      "mean     2.079878e+07\n",
      "std      1.579387e+06\n",
      "min      1.620000e+07\n",
      "25%      2.000000e+07\n",
      "50%      2.100000e+07\n",
      "75%      2.200000e+07\n",
      "max      2.470000e+07\n",
      "Name: price, dtype: float64\n",
      "count    1.900000e+02\n",
      "mean     2.046684e+07\n",
      "std      1.738912e+06\n",
      "min      1.690000e+07\n",
      "25%      1.950000e+07\n",
      "50%      2.050000e+07\n",
      "75%      2.150000e+07\n",
      "max      2.600000e+07\n",
      "Name: price, dtype: float64\n"
     ]
    }
   ],
   "source": [
    "samandia = df.loc[df['brand'] == \"سمند::Samand\"]\n",
    "samandia = samandia[samandia['price']!=-1]\n",
    "p89 = (samandia['title'].str.contains(pat='89') | samandia['title'].str.contains(pat='۸۹'))\n",
    "p90 = (samandia['title'].str.contains(pat='90') | samandia['title'].str.contains(pat='۹۰'))\n",
    "samand90 = samandia[p90]\n",
    "samand89 = samandia[p89]\n",
    "samand89 = samand89.loc[samand89['price']>16000000]\n",
    "samand90 = samand90.loc[samand90['price']<25000000]\n",
    "samand90 = samand90.loc[samand90['price']>16000000]\n",
    "print(samand90.price.describe())\n",
    "print(samand89.price.describe())"
   ]
  },
  {
   "cell_type": "code",
   "execution_count": 328,
   "metadata": {},
   "outputs": [],
   "source": [
    "bfarsh = df['cat3'] == \"carpets\"\n",
    "farshia = df[bfarsh]\n",
    "farshia = farshia[(farshia['price']!=-1) & ~(farshia['desc'].str.contains('دستباف'))]"
   ]
  },
  {
   "cell_type": "code",
   "execution_count": 329,
   "metadata": {},
   "outputs": [
    {
     "name": "stdout",
     "output_type": "stream",
     "text": [
      "(5294, 17)\n",
      "(12911, 17)\n"
     ]
    }
   ],
   "source": [
    "end = farshia[(farshia['created_at'].str.contains('Friday') | farshia['created_at'].str.contains('Thursday '))]\n",
    "day = farshia[(~(farshia['created_at'].str.contains('Friday') | farshia['created_at'].str.contains('Thursday ')))]\n",
    "print(end.shape)\n",
    "print(day.shape)"
   ]
  },
  {
   "cell_type": "code",
   "execution_count": 330,
   "metadata": {},
   "outputs": [
    {
     "name": "stdout",
     "output_type": "stream",
     "text": [
      "count    5.294000e+03\n",
      "mean     5.523218e+05\n",
      "std      8.649332e+05\n",
      "min      5.000000e+01\n",
      "25%      1.200000e+05\n",
      "50%      3.000000e+05\n",
      "75%      6.000000e+05\n",
      "max      1.120000e+07\n",
      "Name: price, dtype: float64\n",
      "count    1.291100e+04\n",
      "mean     5.841163e+05\n",
      "std      9.208501e+05\n",
      "min      2.000000e+01\n",
      "25%      1.200000e+05\n",
      "50%      3.000000e+05\n",
      "75%      7.000000e+05\n",
      "max      1.120000e+07\n",
      "Name: price, dtype: float64\n"
     ]
    }
   ],
   "source": [
    "print(end.price.describe())\n",
    "print(day.price.describe())"
   ]
  },
  {
   "cell_type": "code",
   "execution_count": 331,
   "metadata": {},
   "outputs": [],
   "source": [
    "import matplotlib.pyplot as plt"
   ]
  },
  {
   "cell_type": "code",
   "execution_count": 332,
   "metadata": {},
   "outputs": [
    {
     "data": {
      "text/plain": [
       "(array([1.295e+03, 9.430e+02, 6.000e+02, 4.490e+02, 5.210e+02, 2.570e+02,\n",
       "        1.830e+02, 1.520e+02, 2.590e+02, 5.100e+01, 6.200e+01, 5.200e+01,\n",
       "        4.500e+01, 8.400e+01, 2.700e+01, 2.200e+01, 3.400e+01, 5.700e+01,\n",
       "        7.000e+00, 1.200e+01, 1.200e+01, 5.000e+00, 2.400e+01, 1.000e+00,\n",
       "        1.300e+01, 7.000e+00, 2.200e+01, 0.000e+00, 8.000e+00, 1.000e+00,\n",
       "        2.000e+00, 9.000e+00, 2.000e+00, 6.000e+00, 3.000e+00, 1.200e+01,\n",
       "        0.000e+00, 2.000e+00, 0.000e+00, 0.000e+00, 5.000e+00, 1.000e+00,\n",
       "        1.000e+00, 0.000e+00, 5.000e+00, 0.000e+00, 0.000e+00, 0.000e+00,\n",
       "        0.000e+00, 6.000e+00, 0.000e+00, 1.000e+00, 0.000e+00, 6.000e+00,\n",
       "        0.000e+00, 0.000e+00, 0.000e+00, 0.000e+00, 6.000e+00, 0.000e+00,\n",
       "        0.000e+00, 1.000e+00, 4.000e+00, 0.000e+00, 0.000e+00, 0.000e+00,\n",
       "        4.000e+00, 0.000e+00, 0.000e+00, 1.000e+00, 0.000e+00, 4.000e+00,\n",
       "        0.000e+00, 1.000e+00, 0.000e+00, 1.000e+00, 0.000e+00, 0.000e+00,\n",
       "        0.000e+00, 0.000e+00, 1.000e+00, 0.000e+00, 1.000e+00, 0.000e+00,\n",
       "        0.000e+00, 0.000e+00, 0.000e+00, 0.000e+00, 0.000e+00, 3.000e+00,\n",
       "        0.000e+00, 0.000e+00, 0.000e+00, 0.000e+00, 0.000e+00, 0.000e+00,\n",
       "        0.000e+00, 0.000e+00, 0.000e+00, 1.000e+00]),\n",
       " array([5.00000000e+01, 1.12049500e+05, 2.24049000e+05, 3.36048500e+05,\n",
       "        4.48048000e+05, 5.60047500e+05, 6.72047000e+05, 7.84046500e+05,\n",
       "        8.96046000e+05, 1.00804550e+06, 1.12004500e+06, 1.23204450e+06,\n",
       "        1.34404400e+06, 1.45604350e+06, 1.56804300e+06, 1.68004250e+06,\n",
       "        1.79204200e+06, 1.90404150e+06, 2.01604100e+06, 2.12804050e+06,\n",
       "        2.24004000e+06, 2.35203950e+06, 2.46403900e+06, 2.57603850e+06,\n",
       "        2.68803800e+06, 2.80003750e+06, 2.91203700e+06, 3.02403650e+06,\n",
       "        3.13603600e+06, 3.24803550e+06, 3.36003500e+06, 3.47203450e+06,\n",
       "        3.58403400e+06, 3.69603350e+06, 3.80803300e+06, 3.92003250e+06,\n",
       "        4.03203200e+06, 4.14403150e+06, 4.25603100e+06, 4.36803050e+06,\n",
       "        4.48003000e+06, 4.59202950e+06, 4.70402900e+06, 4.81602850e+06,\n",
       "        4.92802800e+06, 5.04002750e+06, 5.15202700e+06, 5.26402650e+06,\n",
       "        5.37602600e+06, 5.48802550e+06, 5.60002500e+06, 5.71202450e+06,\n",
       "        5.82402400e+06, 5.93602350e+06, 6.04802300e+06, 6.16002250e+06,\n",
       "        6.27202200e+06, 6.38402150e+06, 6.49602100e+06, 6.60802050e+06,\n",
       "        6.72002000e+06, 6.83201950e+06, 6.94401900e+06, 7.05601850e+06,\n",
       "        7.16801800e+06, 7.28001750e+06, 7.39201700e+06, 7.50401650e+06,\n",
       "        7.61601600e+06, 7.72801550e+06, 7.84001500e+06, 7.95201450e+06,\n",
       "        8.06401400e+06, 8.17601350e+06, 8.28801300e+06, 8.40001250e+06,\n",
       "        8.51201200e+06, 8.62401150e+06, 8.73601100e+06, 8.84801050e+06,\n",
       "        8.96001000e+06, 9.07200950e+06, 9.18400900e+06, 9.29600850e+06,\n",
       "        9.40800800e+06, 9.52000750e+06, 9.63200700e+06, 9.74400650e+06,\n",
       "        9.85600600e+06, 9.96800550e+06, 1.00800050e+07, 1.01920045e+07,\n",
       "        1.03040040e+07, 1.04160035e+07, 1.05280030e+07, 1.06400025e+07,\n",
       "        1.07520020e+07, 1.08640015e+07, 1.09760010e+07, 1.10880005e+07,\n",
       "        1.12000000e+07]),\n",
       " <a list of 100 Patch objects>)"
      ]
     },
     "execution_count": 332,
     "metadata": {},
     "output_type": "execute_result"
    },
    {
     "data": {
      "image/png": "[encoded data removed]",
      "text/plain": [
       "<Figure size 432x288 with 1 Axes>"
      ]
     },
     "metadata": {},
     "output_type": "display_data"
    }
   ],
   "source": [
    "plt.hist(day.price, 100)\n",
    "plt.hist(end.price, 100)"
   ]
  },
  {
   "cell_type": "code",
   "execution_count": 420,
   "metadata": {},
   "outputs": [
    {
     "name": "stdout",
     "output_type": "stream",
     "text": [
      "['مدل']\n",
      "['پراید']\n",
      "['پژو']\n",
      "['رنگ']\n",
      "['دوگانه']\n",
      "['خودرو']\n",
      "['سفید']\n",
      "['پیکان']\n",
      "['سمند']\n",
      "['پارس']\n",
      "['وانت']\n",
      "['']\n",
      "['بدون']\n",
      "['206']\n",
      "['ام']\n",
      "['تمیز']\n",
      "['405']\n",
      "['کارخانه']\n",
      "['تیپ', 'سالم']\n",
      "['تیپ', 'سالم']\n",
      "['ای', 'نیسان']\n",
      "['ای', 'نیسان']\n",
      "['فروش']\n",
      "['ال']\n",
      "['93']\n",
      "['سوز']\n",
      "['تیبا', '90']\n",
      "['تیبا', '90']\n",
      "['مشکی']\n",
      "['فول']\n",
      "['تاکسی']\n",
      "['دار']\n",
      "['مدادی']\n",
      "['بنز', 'صندوق']\n",
      "['بنز', 'صندوق']\n"
     ]
    }
   ],
   "source": [
    "cars = df[(df['cat2']=='cars') & (df['created_at'].str.contains('06PM'))]\n",
    "arr = cars.title\n",
    "arr.shape\n",
    "arr = arr.str.split(' ')\n",
    "d = dict()\n",
    "for l in arr:\n",
    "    for x in l:\n",
    "        if (d.get(x) == None):\n",
    "            d.update({x:1})\n",
    "        else:\n",
    "            d.update({x:d.get(x)+1})\n",
    "D = dict()\n",
    "for a in d.keys():\n",
    "    b = d.get(a)\n",
    "    if (D.get(b) == None):\n",
    "        D.update({b:[a]})\n",
    "    else:\n",
    "        D.update({b:D.get(b)+[a]})\n",
    "L = list(d.values())\n",
    "L.sort(reverse=True)\n",
    "for x in L:\n",
    "    if (x<100):\n",
    "        break;\n",
    "    print(D.get(x))"
   ]
  },
  {
   "cell_type": "code",
   "execution_count": null,
   "metadata": {},
   "outputs": [],
   "source": []
  },
  {
   "cell_type": "code",
   "execution_count": 476,
   "metadata": {},
   "outputs": [],
   "source": [
    "travel = df.loc[(df['cat1']=='leisure-hobbies') & (df['cat2']=='travel-packages')]"
   ]
  },
  {
   "cell_type": "code",
   "execution_count": 477,
   "metadata": {},
   "outputs": [],
   "source": [
    "travel = travel.loc[(travel.title.str.contains('استانبول') | travel.desc.str.contains('استانبول')) \n",
    "                    & (travel.price!=-1) & ~(travel.title.str.contains('دبی')) & ~(travel.title.str.contains('چین'))\n",
    "                    & ~(travel.title.str.contains('آنتالیا'))  & ~(travel.title.str.contains('تایلند')) & ~(travel.title.str.contains('چين'))\n",
    "                   & ~(travel.title.str.contains('آداسی')) & ~(travel.title.str.contains('مالزی '))]\n",
    "\n",
    "\n",
    "\n"
   ]
  },
  {
   "cell_type": "code",
   "execution_count": 482,
   "metadata": {},
   "outputs": [],
   "source": [
    "travel = travel.loc[(travel.price<1000000) & (travel.price>500000)]"
   ]
  },
  {
   "cell_type": "code",
   "execution_count": 484,
   "metadata": {},
   "outputs": [
    {
     "data": {
      "text/plain": [
       "count        84.000000\n",
       "mean     761452.380952\n",
       "std       96861.023875\n",
       "min      600000.000000\n",
       "25%      690000.000000\n",
       "50%      745000.000000\n",
       "75%      818750.000000\n",
       "max      999000.000000\n",
       "Name: price, dtype: float64"
      ]
     },
     "execution_count": 484,
     "metadata": {},
     "output_type": "execute_result"
    }
   ],
   "source": [
    "travel.price.describe()"
   ]
  },
  {
   "cell_type": "code",
   "execution_count": 485,
   "metadata": {},
   "outputs": [
    {
     "data": {
      "text/plain": [
       "(array([ 2.,  0.,  0.,  0.,  0.,  4.,  0.,  1.,  0.,  0.,  2.,  0.,  2.,\n",
       "         0.,  0.,  1.,  0.,  0.,  0.,  0.,  1.,  0., 11.,  7.,  1.,  0.,\n",
       "         0.,  0.,  3.,  0.,  2.,  1.,  3.,  0.,  0.,  1.,  0.,  2.,  0.,\n",
       "         0.,  1.,  0.,  2.,  0.,  0.,  0.,  0.,  7.,  1.,  0.,  6.,  0.,\n",
       "         1.,  1.,  0.,  0.,  0.,  1.,  0.,  0.,  3.,  1.,  2.,  0.,  0.,\n",
       "         1.,  0.,  1.,  0.,  0.,  1.,  0.,  1.,  1.,  1.,  2.,  0.,  0.,\n",
       "         1.,  0.,  0.,  0.,  0.,  0.,  0.,  0.,  0.,  2.,  0.,  0.,  0.,\n",
       "         0.,  0.,  0.,  0.,  0.,  0.,  1.,  1.,  1.]),\n",
       " array([600000., 603990., 607980., 611970., 615960., 619950., 623940.,\n",
       "        627930., 631920., 635910., 639900., 643890., 647880., 651870.,\n",
       "        655860., 659850., 663840., 667830., 671820., 675810., 679800.,\n",
       "        683790., 687780., 691770., 695760., 699750., 703740., 707730.,\n",
       "        711720., 715710., 719700., 723690., 727680., 731670., 735660.,\n",
       "        739650., 743640., 747630., 751620., 755610., 759600., 763590.,\n",
       "        767580., 771570., 775560., 779550., 783540., 787530., 791520.,\n",
       "        795510., 799500., 803490., 807480., 811470., 815460., 819450.,\n",
       "        823440., 827430., 831420., 835410., 839400., 843390., 847380.,\n",
       "        851370., 855360., 859350., 863340., 867330., 871320., 875310.,\n",
       "        879300., 883290., 887280., 891270., 895260., 899250., 903240.,\n",
       "        907230., 911220., 915210., 919200., 923190., 927180., 931170.,\n",
       "        935160., 939150., 943140., 947130., 951120., 955110., 959100.,\n",
       "        963090., 967080., 971070., 975060., 979050., 983040., 987030.,\n",
       "        991020., 995010., 999000.]),\n",
       " <a list of 100 Patch objects>)"
      ]
     },
     "execution_count": 485,
     "metadata": {},
     "output_type": "execute_result"
    },
    {
     "data": {
      "image/png": "[encoded data removed]",
      "text/plain": [
       "<Figure size 432x288 with 1 Axes>"
      ]
     },
     "metadata": {},
     "output_type": "display_data"
    }
   ],
   "source": [
    "plt.hist(travel.price,100)"
   ]
  },
  {
   "cell_type": "code",
   "execution_count": null,
   "metadata": {},
   "outputs": [],
   "source": []
  },
  {
   "cell_type": "code",
   "execution_count": null,
   "metadata": {},
   "outputs": [],
   "source": []
  },
  {
   "cell_type": "code",
   "execution_count": 502,
   "metadata": {},
   "outputs": [],
   "source": [
    "c = dict()\n",
    "for i in range(1,7):\n",
    "    c.update({i:df.loc[(df['cat2']=='cars') & (df['created_at'].str.contains('0'+str(i)+'PM'))].shape[0]})"
   ]
  },
  {
   "cell_type": "code",
   "execution_count": 503,
   "metadata": {},
   "outputs": [
    {
     "data": {
      "text/plain": [
       "{1: 8172, 2: 7940, 3: 7784, 4: 8022, 5: 7757, 6: 7623}"
      ]
     },
     "execution_count": 503,
     "metadata": {},
     "output_type": "execute_result"
    }
   ],
   "source": [
    "c"
   ]
  },
  {
   "cell_type": "code",
   "execution_count": 504,
   "metadata": {},
   "outputs": [],
   "source": [
    "for i in range(8,10):\n",
    "    c.update({i:df.loc[(df['cat2']=='cars') & (df['created_at'].str.contains('0'+str(i)+'AM'))].shape[0]})"
   ]
  },
  {
   "cell_type": "code",
   "execution_count": 505,
   "metadata": {},
   "outputs": [
    {
     "data": {
      "text/plain": [
       "{1: 8172, 2: 7940, 3: 7784, 4: 8022, 5: 7757, 6: 7623, 8: 6836, 9: 7508}"
      ]
     },
     "execution_count": 505,
     "metadata": {},
     "output_type": "execute_result"
    }
   ],
   "source": [
    "c"
   ]
  },
  {
   "cell_type": "code",
   "execution_count": 493,
   "metadata": {},
   "outputs": [
    {
     "data": {
      "text/plain": [
       "(7757, 17)"
      ]
     },
     "execution_count": 493,
     "metadata": {},
     "output_type": "execute_result"
    }
   ],
   "source": []
  },
  {
   "cell_type": "code",
   "execution_count": null,
   "metadata": {},
   "outputs": [],
   "source": []
  }
 ],
 "metadata": {
  "kernelspec": {
   "display_name": "Python 3",
   "language": "python",
   "name": "python3"
  },
  "language_info": {
   "codemirror_mode": {
    "name": "ipython",
    "version": 3
   },
   "file_extension": ".py",
   "mimetype": "text/x-python",
   "name": "python",
   "nbconvert_exporter": "python",
   "pygments_lexer": "ipython3",
   "version": "3.6.5"
  }
 },
 "nbformat": 4,
 "nbformat_minor": 2
}
