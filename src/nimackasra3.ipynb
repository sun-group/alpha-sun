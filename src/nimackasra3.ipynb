{
 "cells": [
  {
   "cell_type": "code",
   "execution_count": 5,
   "metadata": {},
   "outputs": [],
   "source": [
    "import numpy as np\n",
    "import pandas as pd\n",
    "import locale\n",
    "locale.setlocale(locale.LC_ALL, 'Persian')\n",
    "%config IPCompleter.greedy=True\n",
    "import math"
   ]
  },
  {
   "cell_type": "code",
   "execution_count": 8,
   "metadata": {},
   "outputs": [],
   "source": [
    "df = pd.read_csv(\"resources/divar_posts_dataset.csv\")"
   ]
  },
  {
   "cell_type": "code",
   "execution_count": 9,
   "metadata": {},
   "outputs": [
    {
     "name": "stderr",
     "output_type": "stream",
     "text": [
      "C:\\ProgramData\\Anaconda3\\lib\\site-packages\\ipykernel_launcher.py:2: SettingWithCopyWarning: \n",
      "A value is trying to be set on a copy of a slice from a DataFrame.\n",
      "Try using .loc[row_indexer,col_indexer] = value instead\n",
      "\n",
      "See the caveats in the documentation: http://pandas.pydata.org/pandas-docs/stable/indexing.html#indexing-view-versus-copy\n",
      "  \n"
     ]
    }
   ],
   "source": [
    "dfcat1 = df.loc[df.cat2!=df.cat2]\n",
    "dfcat1[\"cat\"] = dfcat1[\"cat1\"]"
   ]
  },
  {
   "cell_type": "code",
   "execution_count": 11,
   "metadata": {},
   "outputs": [
    {
     "name": "stderr",
     "output_type": "stream",
     "text": [
      "C:\\ProgramData\\Anaconda3\\lib\\site-packages\\ipykernel_launcher.py:2: SettingWithCopyWarning: \n",
      "A value is trying to be set on a copy of a slice from a DataFrame.\n",
      "Try using .loc[row_indexer,col_indexer] = value instead\n",
      "\n",
      "See the caveats in the documentation: http://pandas.pydata.org/pandas-docs/stable/indexing.html#indexing-view-versus-copy\n",
      "  \n"
     ]
    }
   ],
   "source": [
    "dfcat2 = df.loc[(df.cat3!=df.cat3) & (df.cat2==df.cat2)]\n",
    "dfcat2[\"cat\"] = (dfcat2[\"cat1\"]+ \":\" +dfcat2[\"cat2\"])"
   ]
  },
  {
   "cell_type": "code",
   "execution_count": 12,
   "metadata": {},
   "outputs": [
    {
     "name": "stderr",
     "output_type": "stream",
     "text": [
      "C:\\ProgramData\\Anaconda3\\lib\\site-packages\\ipykernel_launcher.py:2: SettingWithCopyWarning: \n",
      "A value is trying to be set on a copy of a slice from a DataFrame.\n",
      "Try using .loc[row_indexer,col_indexer] = value instead\n",
      "\n",
      "See the caveats in the documentation: http://pandas.pydata.org/pandas-docs/stable/indexing.html#indexing-view-versus-copy\n",
      "  \n"
     ]
    }
   ],
   "source": [
    "dfcat3 = df.loc[(df.cat3==df.cat3)]\n",
    "dfcat3[\"cat\"] = (dfcat3[\"cat1\"]+ \":\" +dfcat3[\"cat2\"] + \":\" + dfcat3[\"cat3\"])"
   ]
  },
  {
   "cell_type": "code",
   "execution_count": 13,
   "metadata": {},
   "outputs": [],
   "source": [
    "data = dfcat1.append(dfcat2.append(dfcat3))"
   ]
  },
  {
   "cell_type": "code",
   "execution_count": 16,
   "metadata": {},
   "outputs": [],
   "source": [
    "data.to_csv(\"../divar/treecat.csv\")"
   ]
  },
  {
   "cell_type": "code",
   "execution_count": 94,
   "metadata": {},
   "outputs": [
    {
     "data": {
      "text/plain": [
       "34                                       electronic-devices\n",
       "99                                                 personal\n",
       "164                                                personal\n",
       "619                                                personal\n",
       "710                                      electronic-devices\n",
       "1391                                     electronic-devices\n",
       "1432                                     electronic-devices\n",
       "2213                                     electronic-devices\n",
       "3610                                     electronic-devices\n",
       "3858                                               personal\n",
       "4557                                     electronic-devices\n",
       "5081                                     electronic-devices\n",
       "5152                                     electronic-devices\n",
       "5493                                     electronic-devices\n",
       "6210                                     electronic-devices\n",
       "6239                                               personal\n",
       "6443                                     electronic-devices\n",
       "6840                                     electronic-devices\n",
       "7203                                     electronic-devices\n",
       "8229                                     electronic-devices\n",
       "9825                                     electronic-devices\n",
       "9833                                     electronic-devices\n",
       "9841                                     electronic-devices\n",
       "9960                                     electronic-devices\n",
       "10050                                    electronic-devices\n",
       "11485                                    electronic-devices\n",
       "11852                                    electronic-devices\n",
       "12512                                              personal\n",
       "12548                                    electronic-devices\n",
       "12823                                              personal\n",
       "                                ...                        \n",
       "947602                                  vehicles:cars:light\n",
       "947604    for-the-home:furniture-and-home-decore:sofa-ar...\n",
       "947605          electronic-devices:audio-video:tv-projector\n",
       "947606    for-the-home:building-and-garden:stove-and-hea...\n",
       "947607    for-the-home:furniture-and-home-decore:tables-...\n",
       "947608    for-the-home:utensils-and-appliances:cookware-...\n",
       "947609                                  vehicles:cars:light\n",
       "947610       electronic-devices:mobile-tablet:mobile-phones\n",
       "947611    businesses:equipments-and-machinery:shop-and-cash\n",
       "947612                                  vehicles:cars:heavy\n",
       "947613    for-the-home:furniture-and-home-decore:tables-...\n",
       "947614                                  vehicles:cars:heavy\n",
       "947615                                  vehicles:cars:light\n",
       "947616                 personal:clothing-and-shoes:clothing\n",
       "947617    for-the-home:furniture-and-home-decore:antique...\n",
       "947619    for-the-home:furniture-and-home-decore:sofa-ar...\n",
       "947620    for-the-home:furniture-and-home-decore:sofa-ar...\n",
       "947621       electronic-devices:mobile-tablet:mobile-phones\n",
       "947622       electronic-devices:mobile-tablet:mobile-phones\n",
       "947623       businesses:equipments-and-machinery:industrial\n",
       "947624                personal:baby-and-toys:child-car-seat\n",
       "947625                                  vehicles:cars:light\n",
       "947626       electronic-devices:audio-video:stereo-surround\n",
       "947627    for-the-home:utensils-and-appliances:cookware-...\n",
       "947628    for-the-home:furniture-and-home-decore:sofa-ar...\n",
       "947630    for-the-home:building-and-garden:stove-and-hea...\n",
       "947631      electronic-devices:audio-video:camera-camcoders\n",
       "947632                                  vehicles:cars:light\n",
       "947633    electronic-devices:mobile-tablet:mobile-tablet...\n",
       "947634                 personal:jewelry-and-watches:watches\n",
       "Name: cat, Length: 947635, dtype: object"
      ]
     },
     "execution_count": 94,
     "metadata": {},
     "output_type": "execute_result"
    }
   ],
   "source": []
  },
  {
   "cell_type": "code",
   "execution_count": null,
   "metadata": {},
   "outputs": [],
   "source": []
  },
  {
   "cell_type": "code",
   "execution_count": null,
   "metadata": {},
   "outputs": [],
   "source": []
  },
  {
   "cell_type": "code",
   "execution_count": null,
   "metadata": {},
   "outputs": [],
   "source": []
  }
 ],
 "metadata": {
  "kernelspec": {
   "display_name": "Python 3",
   "language": "python",
   "name": "python3"
  },
  "language_info": {
   "codemirror_mode": {
    "name": "ipython",
    "version": 3
   },
   "file_extension": ".py",
   "mimetype": "text/x-python",
   "name": "python",
   "nbconvert_exporter": "python",
   "pygments_lexer": "ipython3",
   "version": "3.7.1"
  }
 },
 "nbformat": 4,
 "nbformat_minor": 2
}
