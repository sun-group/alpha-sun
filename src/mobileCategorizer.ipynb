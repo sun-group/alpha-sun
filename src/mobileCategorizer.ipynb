{
 "cells": [
  {
   "cell_type": "code",
   "execution_count": 14,
   "metadata": {},
   "outputs": [],
   "source": [
    "import pandas as pd\n",
    "datas = pd.read_csv(\"resources/dataset.csv\")\n",
    "brandsdf = pd.read_csv(\"resources/brands.csv\")"
   ]
  },
  {
   "cell_type": "code",
   "execution_count": 139,
   "metadata": {},
   "outputs": [
    {
     "name": "stdout",
     "output_type": "stream",
     "text": [
      "0 Nokia\n",
      "1 Apple\n",
      "2 Samsung\n",
      "3 Huawei\n",
      "4 LG\n",
      "5 ZTE\n",
      "6 Sony Ericsson\n",
      "7 Sony\n",
      "8 BlackBerry\n",
      "9 HTC\n",
      "10 Lenovo\n",
      "11 Farassoo\n",
      "12 Amazon\n",
      "13 Motorola\n",
      "14 Acer\n",
      "15 Dell\n",
      "16 Asus\n"
     ]
    },
    {
     "data": {
      "text/plain": [
       "[['Nokia', 'نوکیا', 'لومیا'],\n",
       " ['Apple',\n",
       "  'اپل',\n",
       "  '۶اس\\n',\n",
       "  'اپل\\n',\n",
       "  'آیفون\\n',\n",
       "  '۵اس\\n',\n",
       "  '۴اس\\n',\n",
       "  'ایکس\\n',\n",
       "  'ایکس پلاس\\n',\n",
       "  '6s\\n',\n",
       "  '5s\\n',\n",
       "  '5c\\n',\n",
       "  '6plus\\n',\n",
       "  'se\\n'],\n",
       " ['Samsung',\n",
       "  'سامسونگ',\n",
       "  'grand\\n',\n",
       "  'گرند\\n',\n",
       "  'گالاکسی\\n',\n",
       "  'سامسونگ\\n',\n",
       "  'اس۶\\n',\n",
       "  'اس۵\\n',\n",
       "  'اس۷\\n',\n",
       "  'ای۷\\n',\n",
       "  'ای۵\\n',\n",
       "  'جی۵\\n',\n",
       "  'جی۷\\n',\n",
       "  'A7\\n',\n",
       "  'A5\\n',\n",
       "  'edge\\n',\n",
       "  'ادج\\n',\n",
       "  'ace\\n',\n",
       "  'ACE\\n',\n",
       "  'J7\\n',\n",
       "  'j7\\n',\n",
       "  'note\\n',\n",
       "  'j5\\n',\n",
       "  'J5\\n',\n",
       "  'a5\\n',\n",
       "  'a7\\n',\n",
       "  's7\\n',\n",
       "  's5\\n',\n",
       "  's6\\n',\n",
       "  'S6\\n',\n",
       "  'S5\\n',\n",
       "  'note\\n',\n",
       "  'نوت\\n',\n",
       "  'note5\\n',\n",
       "  'note 5\\n',\n",
       "  'نوت ۵\\n'],\n",
       " ['Huawei',\n",
       "  'هوآوی',\n",
       "  'p8\\n',\n",
       "  'هوآوی\\n',\n",
       "  'هواوی\\n',\n",
       "  'هاوایی\\n',\n",
       "  'P8\\n',\n",
       "  'P7\\n',\n",
       "  'P10\\n',\n",
       "  'P9\\n',\n",
       "  'P10lite\\n',\n",
       "  'lite\\n',\n",
       "  'P10'],\n",
       " ['LG', 'ال\\u200cجی', 'G5\\n', 'جی۵\\n', 'ال جی\\n', 'G3\\n', 'g3\\n', 'g5\\n'],\n",
       " ['ZTE', 'زدتی\\u200cای'],\n",
       " ['Sony Ericsson', 'سونی اریکسون'],\n",
       " ['Sony', 'سونی'],\n",
       " ['BlackBerry', 'بلک\\u200cبری'],\n",
       " ['HTC', 'اچ\\u200cتی\\u200cسی'],\n",
       " ['Lenovo', 'لنوو'],\n",
       " ['Farassoo', 'فراسو'],\n",
       " ['Amazon', 'آمازون'],\n",
       " ['Motorola', 'موتورلا'],\n",
       " ['Acer', 'ایسر'],\n",
       " ['Dell', 'دل'],\n",
       " ['Asus', 'ایسوس']]"
      ]
     },
     "execution_count": 139,
     "metadata": {},
     "output_type": "execute_result"
    }
   ],
   "source": [
    "brands = brandsdf.brands\n",
    "brands[0]\n",
    "keywords = []\n",
    "for brand in brands:\n",
    "    keys = brand.split(\"::\")\n",
    "    keywords.append(keys)\n",
    "for ind, val in enumerate(keywords):\n",
    "    print(str(ind) + \" \" + val[0])\n",
    "for ind, val in enumerate(keywords):\n",
    "    f = open(\"resources/keyword/\" + str(ind) + \".txt\", \"r\")\n",
    "    lines = f.readlines()\n",
    "    for line in lines:\n",
    "        keywords[ind].append(line)\n",
    "keywords"
   ]
  },
  {
   "cell_type": "code",
   "execution_count": null,
   "metadata": {},
   "outputs": [],
   "source": [
    "sims = []"
   ]
  },
  {
   "cell_type": "code",
   "execution_count": null,
   "metadata": {},
   "outputs": [],
   "source": []
  },
  {
   "cell_type": "code",
   "execution_count": 140,
   "metadata": {},
   "outputs": [],
   "source": [
    "def simil(text, list):\n",
    "    acc = 0\n",
    "    for a in list:\n",
    "        words = text.split(a)\n",
    "        acc += len(words)-1\n",
    "    return acc"
   ]
  },
  {
   "cell_type": "code",
   "execution_count": 29,
   "metadata": {},
   "outputs": [
    {
     "data": {
      "text/plain": [
       "3"
      ]
     },
     "execution_count": 29,
     "metadata": {},
     "output_type": "execute_result"
    }
   ],
   "source": []
  },
  {
   "cell_type": "code",
   "execution_count": 141,
   "metadata": {},
   "outputs": [],
   "source": [
    "def getFuckingBest(data, keywords, brands):\n",
    "#     print(data)\n",
    "    desc = data.desc\n",
    "    title = data.title\n",
    "    sims = []\n",
    "    for idx, brand in enumerate(brands):\n",
    "        sim = simil(desc, keywords[idx])\n",
    "        sim = sim + simil(title, keywords[idx])\n",
    "        sims.append(sim)\n",
    "    return sims.index(max(sims))"
   ]
  },
  {
   "cell_type": "code",
   "execution_count": null,
   "metadata": {},
   "outputs": [],
   "source": []
  },
  {
   "cell_type": "code",
   "execution_count": 134,
   "metadata": {},
   "outputs": [],
   "source": [
    "import csv"
   ]
  },
  {
   "cell_type": "code",
   "execution_count": 138,
   "metadata": {},
   "outputs": [],
   "source": [
    "ans = []\n",
    "writer = csv.writer(open(\"resources/anses.csv\", 'w'))\n",
    "writer.writerow([\"brand\"])\n",
    "for ind in range(0,1000):\n",
    "    br = getFuckingBest(datas.iloc[ind], keywords, brands)\n",
    "    l = []\n",
    "    l.append(brands[br])\n",
    "    writer.writerow(l)\n",
    "    ans.append(brands[br])\n",
    "#     print(brands[br])\n",
    "\n",
    "\n",
    "\n",
    "\n",
    "    \n",
    "    \n",
    "    "
   ]
  }
 ],
 "metadata": {
  "kernelspec": {
   "display_name": "Python 3",
   "language": "python",
   "name": "python3"
  },
  "language_info": {
   "codemirror_mode": {
    "name": "ipython",
    "version": 3
   },
   "file_extension": ".py",
   "mimetype": "text/x-python",
   "name": "python",
   "nbconvert_exporter": "python",
   "pygments_lexer": "ipython3",
   "version": "3.7.1"
  }
 },
 "nbformat": 4,
 "nbformat_minor": 2
}
